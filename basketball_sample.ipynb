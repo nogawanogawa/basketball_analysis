{
  "nbformat": 4,
  "nbformat_minor": 0,
  "metadata": {
    "kernelspec": {
      "display_name": "R",
      "language": "R",
      "name": "ir"
    },
    "language_info": {
      "codemirror_mode": "r",
      "file_extension": ".r",
      "mimetype": "text/x-r-source",
      "name": "R",
      "pygments_lexer": "r",
      "version": "3.6.0"
    },
    "colab": {
      "name": "basketball_sample.ipynb",
      "provenance": [],
      "private_outputs": true,
      "collapsed_sections": []
    }
  },
  "cells": [
    {
      "cell_type": "code",
      "metadata": {
        "id": "M6YRCqil-8RK",
        "colab_type": "code",
        "colab": {}
      },
      "source": [
        "install.packages(\"devtools\", repos=\"https://cran.stat.unipd.it/\")\n",
        "install.packages(\"vcd\")\n",
        "install.packages(\"plotly\")\n",
        "install.packages(\"lsr\")\n",
        "install.packages(\"tidygraph\")\n",
        "install.packages(\"CINNA\")"
      ],
      "execution_count": 0,
      "outputs": []
    },
    {
      "cell_type": "code",
      "metadata": {
        "scrolled": true,
        "id": "HwQQ9pKx-8RZ",
        "colab_type": "code",
        "colab": {}
      },
      "source": [
        "devtools::install_github(\"sndmrc/BasketballAnalyzeR\") "
      ],
      "execution_count": 0,
      "outputs": []
    },
    {
      "cell_type": "code",
      "metadata": {
        "id": "CPHNX_kn-8Re",
        "colab_type": "code",
        "colab": {}
      },
      "source": [
        " library(BasketballAnalyzeR)"
      ],
      "execution_count": 0,
      "outputs": []
    },
    {
      "cell_type": "markdown",
      "metadata": {
        "id": "YU9fmvSMrBCR",
        "colab_type": "text"
      },
      "source": [
        "# CHAPTER 2 \n",
        "# Data and Basic Statistical Analyses \n"
      ]
    },
    {
      "cell_type": "code",
      "metadata": {
        "id": "CkCCMZtTAnZG",
        "colab_type": "code",
        "colab": {}
      },
      "source": [
        "PbP <- PbPmanipulation(PbP.BDB)"
      ],
      "execution_count": 0,
      "outputs": []
    },
    {
      "cell_type": "code",
      "metadata": {
        "id": "yXGW1qkmCo5E",
        "colab_type": "code",
        "colab": {}
      },
      "source": [
        "rm(list=ls())\n",
        "tm <- c(\"BOS\",\"CLE\",\"GSW\",\"HOU\")\n",
        "selTeams <- which(Tadd$team %in% tm)\n",
        "FF.sel <- fourfactors(Tbox[selTeams,], Obox[selTeams,])\n",
        "plot(FF.sel)"
      ],
      "execution_count": 0,
      "outputs": []
    },
    {
      "cell_type": "code",
      "metadata": {
        "id": "-H68ywzfnxq7",
        "colab_type": "code",
        "colab": {}
      },
      "source": [
        "FF <- fourfactors(Tbox,Obox)\n",
        "listPlots <- plot(FF)\n",
        "library(gridExtra)\n",
        "grid.arrange(grobs=listPlots[1:2], ncol=1)"
      ],
      "execution_count": 0,
      "outputs": []
    },
    {
      "cell_type": "code",
      "metadata": {
        "id": "1LdJWM_7wlhQ",
        "colab_type": "code",
        "colab": {}
      },
      "source": [
        "rm(list=ls())\n",
        "X <- data.frame(Tbox, PTS.O=Obox$PTS, TOV.O=Obox$TOV,\n",
        "CONF=Tadd$Conference)\n",
        "XW <- subset(X, CONF==\"W\")\n",
        "labs <- c(\"Steals\",\"Blocks\",\"Defensive Rebounds\")\n",
        "barline(data=XW, id=\"Team\", bars=c(\"STL\",\"BLK\",\"DREB\"),\n",
        "line=\"TOV.O\", order.by=\"PTS.O\", labels.bars=labs)\n",
        "Pbox.HR <- subset(Pbox, Team==\"Houston Rockets\" &\n",
        " MIN>=500)\n",
        "barline(data=Pbox.HR, id=\"Player\",\n",
        "bars=c(\"P2p\",\"P3p\",\"FTp\"), line=\"MIN\",\n",
        "order.by=\"PM\", labels.bars=c(\"2P%\",\"3P%\",\"FT%\"),\n",
        "title=\"Houston Rockets\")"
      ],
      "execution_count": 0,
      "outputs": []
    },
    {
      "cell_type": "code",
      "metadata": {
        "id": "Aic_wnHnwvqW",
        "colab_type": "code",
        "colab": {}
      },
      "source": [
        "rm(list=ls())\n",
        "Pbox.PG <- subset(Pbox, Player==\"Russell Westbrook\" |\n",
        " Player==\"Stephen Curry\" |\n",
        " Player==\"Chris Paul\" |\n",
        " Player==\"Kyrie Irving\" |\n",
        " Player==\"Damian Lillard\" |\n",
        " Player==\"Kyle Lowry\" |\n",
        " Player==\"John Wall\" |\n",
        " Player==\"Rajon Rondo\" |\n",
        " Player==\"Kemba Walker\")\n",
        "attach(Pbox.PG)\n",
        "X <- data.frame(P2M, P3M, FTM, REB=OREB+DREB, AST,\n",
        "STL, BLK)/MIN\n",
        "detach(Pbox.PG)\n",
        "radialprofile(data=X, title=Pbox.PG$Player, std=FALSE)\n",
        "radialprofile(data=X, title=Pbox.PG$Player, std=TRUE) "
      ],
      "execution_count": 0,
      "outputs": []
    },
    {
      "cell_type": "code",
      "metadata": {
        "id": "7UElI3Law1iA",
        "colab_type": "code",
        "colab": {}
      },
      "source": [
        "rm(list=ls())\n",
        "Pbox.sel <- subset(Pbox, MIN>= 500)\n",
        "attach(Pbox.sel)\n",
        "X <- data.frame(AST, TOV, PTS)/MIN\n",
        "detach(Pbox.sel)\n",
        "mypal <- colorRampPalette(c(\"blue\",\"yellow\",\"red\"))\n",
        "scatterplot(X, data.var=c(\"AST\",\"TOV\"), z.var=\"PTS\",\n",
        "labels=1:nrow(X), palette=mypal)\n",
        "SAS <- which(Pbox.sel$Team==\"San Antonio Spurs\")\n",
        "scatterplot(X, data.var=c(\"AST\",\"TOV\"), z.var=\"PTS\",\n",
        "labels=Pbox.sel$Player, palette=mypal,\n",
        "subset=SAS)\n",
        "SAS <- which(Pbox.sel$Team==\"San Antonio Spurs\")\n",
        "scatterplot(X, data.var=c(\"AST\",\"TOV\"), z.var=\"PTS\",\n",
        "labels=Pbox.sel$Player, palette=mypal,\n",
        "subset=SAS, zoom=c(0.20,0.325,0.05,0.10))"
      ],
      "execution_count": 0,
      "outputs": []
    },
    {
      "cell_type": "code",
      "metadata": {
        "id": "kpPOA2NnxAW-",
        "colab_type": "code",
        "colab": {}
      },
      "source": [
        "rm(list=ls())\n",
        "attach(Tbox)\n",
        "X <- data.frame(T=Team, P2p, P3p, FTp, AS=P2A+P3A+FTA)\n",
        "detach(Tbox)\n",
        "labs <- c(\"2-point shots (% made)\",\n",
        " \"3-point shots (% made)\",\n",
        " \"free throws (% made)\",\n",
        " \"Total shots attempted\")\n",
        "bubbleplot(X, id=\"T\", x=\"P2p\", y=\"P3p\", col=\"FTp\",\n",
        " size=\"AS\", labels=labs)\n",
        "Pbox.GSW.CC <- subset(Pbox,\n",
        " (Team==\"Golden State Warriors\" |\n",
        " Team ==\"Cleveland Cavaliers\") &\n",
        " MIN>=500)\n",
        "attach(Pbox.GSW.CC)\n",
        "X <- data.frame(ID=Player, Team, V1=DREB/MIN, V2=STL/MIN,\n",
        "V3=BLK/MIN, V4=MIN)\n",
        "detach(Pbox.GSW.CC)\n",
        "labs <- c(\"Defensive Rebounds\",\"Steals\",\"Blocks\",\n",
        " \"Total minutes played\")\n",
        "bubbleplot(X, id=\"ID\", x=\"V1\", y=\"V2\", col=\"V3\",\n",
        " size=\"V4\", text.col=\"Team\", labels=labs,\n",
        " title=\"GSW and CC during the regular season\",\n",
        " text.legend=TRUE, text.size=3.5, scale=FALSE)"
      ],
      "execution_count": 0,
      "outputs": []
    },
    {
      "cell_type": "code",
      "metadata": {
        "id": "0wginlV1xLI9",
        "colab_type": "code",
        "colab": {}
      },
      "source": [
        "rm(list=ls())\n",
        "Pbox.OKC <- subset(Pbox, Team==\"Oklahoma City Thunder\"\n",
        " & MIN>=500)\n",
        "vrb1 <- variability(data=Pbox.OKC, data.var=\"P3p\",\n",
        "size.var=\"P3A\")\n",
        "vrb1 <- variability(data=Pbox.OKC, data.var=\"P3p\",\n",
        "size.var=\"P3A\",weight=TRUE)\n",
        "vrb2 <- variability(data=Pbox.OKC,\n",
        "data.var=c(\"P2p\",\"P3p\",\"FTp\"),\n",
        "size.var=c(\"P2A\",\"P3A\",\"FTA\"),\n",
        "weight=TRUE)\n",
        "plot(vrb2, title=\"Variability diagram - OKC\")"
      ],
      "execution_count": 0,
      "outputs": []
    },
    {
      "cell_type": "code",
      "metadata": {
        "id": "WeejYl_exbLp",
        "colab_type": "code",
        "colab": {}
      },
      "source": [
        "rm(list=ls())\n",
        "Pbox.BN <- subset(Pbox, Team==\"Brooklyn Nets\")\n",
        "ineqBN <- inequality(Pbox.BN$PTS, nplayers=8)\n",
        "Pbox.MB <- subset(Pbox, Team==\"Milwaukee Bucks\")\n",
        "ineqMB <- inequality(Pbox.MB$PTS, nplayers=8)\n",
        "library(gridExtra)\n",
        "p1 <- plot(ineqBN, title=\"Brooklyn Nets\")\n",
        "p2 <- plot(ineqMB, title=\"Milwaukee Bucks\")\n",
        "grid.arrange(p1, p2, nrow=1)\n",
        "no.teams <- nrow(Tbox)\n",
        "INEQ <- array(0, no.teams)\n",
        "for (k in 1:no.teams) {\n",
        "Teamk <- Tbox$Team[k]\n",
        "Pbox.sel <- subset(Pbox, Team==Teamk)\n",
        "index <- inequality(Pbox.sel$PTS, npl=8)\n",
        "INEQ[k] <- index$Gini\n",
        " }\n",
        "dts <- data.frame(INEQ, PTS=Tbox$PTS,\n",
        " CONF=Tadd$Conference)\n",
        "mypal <- colorRampPalette(c(\"blue\",\"red\"))\n",
        "scatterplot(dts, data.var=c(\"INEQ\",\"PTS\"), z.var=\"CONF\",\n",
        "labels=Tbox$Team, palette=mypal,\n",
        "repel_labels=TRUE)"
      ],
      "execution_count": 0,
      "outputs": []
    },
    {
      "cell_type": "code",
      "metadata": {
        "id": "cLmhMmRxxmM4",
        "colab_type": "code",
        "colab": {}
      },
      "source": [
        "rm(list=ls())\n",
        "PbP <- PbPmanipulation(PbP.BDB)\n",
        "PbP.GSW <- subset(PbP, team=\"GSW\")\n",
        "lineup <- c(\"Stephen Curry\", \"Kevin Durant\",\n",
        " \"Klay Thompson\", \"Draymond Green\",\n",
        " \"Zaza Pachulia\")\n",
        "filt5 <- apply(PbP.GSW[, 4:13], 1,\n",
        " function(x) {\n",
        " x <- as.character(x)\n",
        " sum(x %in% lineup)==5\n",
        " })\n",
        "subPbP.GSW <- PbP.GSW[filt5, ]\n",
        "PTS5 <- sapply(lineup,\n",
        " function(x) {\n",
        " filt <- subPbP.GSW$player==x\n",
        " sum(subPbP.GSW$points[filt], na.rm=T)\n",
        " })\n",
        "inequality(PTS5,nplayer=5)"
      ],
      "execution_count": 0,
      "outputs": []
    },
    {
      "cell_type": "code",
      "metadata": {
        "id": "3JqRPgpkxuPK",
        "colab_type": "code",
        "colab": {}
      },
      "source": [
        "rm(list=ls())\n",
        "PbP <- PbPmanipulation(PbP.BDB)\n",
        "PbP.GSW.DET <- subset(PbP, team==\"GSW\" & oppTeam==\"DET\")\n",
        "lineup <- c(\"Stephen Curry\", \"Kevin Durant\",\n",
        " \"Klay Thompson\", \"Draymond Green\",\n",
        " \"Zaza Pachulia\")\n",
        "filt5 <- apply(PbP.GSW.DET[, 4:13], 1,\n",
        " function(x) {\n",
        " x <- as.character(x)\n",
        " sum(x %in% lineup)==5\n",
        " })\n",
        "subPbP.GSW.DET <- PbP.GSW.DET[filt5, ]\n",
        "PTS5 <- sapply(lineup,\n",
        " function(x) {\n",
        " filt <- subPbP.GSW.DET$player==x\n",
        " sum(subPbP.GSW.DET$points[filt], na.rm=T)\n",
        " })\n",
        "inequality(PTS5,nplayer=5)"
      ],
      "execution_count": 0,
      "outputs": []
    },
    {
      "cell_type": "code",
      "metadata": {
        "id": "TRek7anwxxv9",
        "colab_type": "code",
        "colab": {}
      },
      "source": [
        "rm(list=ls())\n",
        "PbP <- PbPmanipulation(PbP.BDB)\n",
        "subdata <- subset(PbP, player==\"Kevin Durant\")\n",
        "subdata$xx <- subdata$original_x/10\n",
        "subdata$yy <- subdata$original_y/10-41.75\n",
        "shotchart(data=subdata, x=\"xx\", y=\"yy\", type=NULL,\n",
        " scatter=TRUE)\n",
        "shotchart(data=subdata, x=\"xx\", y=\"yy\", z=\"result\", type=NULL,\n",
        " scatter=TRUE)\n",
        "shotchart(data=subdata, x=\"xx\", y=\"yy\", z=\"playlength\",\n",
        " num.sect=5, type=\"sectors\", scatter = TRUE)\n",
        "shotchart(data=subdata, x=\"xx\", y=\"yy\", z=\"playlength\",\n",
        " num.sect=5, type=\"sectors\", scatter=FALSE, result=\"result\")"
      ],
      "execution_count": 0,
      "outputs": []
    },
    {
      "cell_type": "markdown",
      "metadata": {
        "id": "rpaT4sTQsO01",
        "colab_type": "text"
      },
      "source": [
        "# CHAPTER 3 \n",
        "# Discovering Patterns in Data "
      ]
    },
    {
      "cell_type": "code",
      "metadata": {
        "id": "lEPka4jzyVon",
        "colab_type": "code",
        "colab": {}
      },
      "source": [
        "rm(list=ls())\n",
        "PbP <- PbPmanipulation(PbP.BDB)\n",
        "PbP.GSW <- subset(PbP, team==\"GSW\")\n",
        "ev <- c(\"ejection\",\"end of period\",\"jump ball\",\n",
        "\"start of period\",\"unknown\",\"violation\",\n",
        "\"timeout\",\"sub\",\"foul\",\"turnover\")\n",
        "event.unsel <- which(PbP.GSW$event_type %in% ev)\n",
        "PbP.GSW.ev <- PbP.GSW[-event.unsel,]\n",
        "attach(PbP.GSW.ev)\n",
        "T <- table(oppTeam, event_type, exclude=ev)\n",
        "detach(PbP.GSW.ev)\n",
        "library(vcd)\n",
        "assocstats(T)"
      ],
      "execution_count": 0,
      "outputs": []
    },
    {
      "cell_type": "code",
      "metadata": {
        "id": "HtGyXY_VsaTz",
        "colab_type": "code",
        "colab": {}
      },
      "source": [
        "rm(list=ls())\n",
        "library(dplyr)\n",
        "library(lsr)\n",
        "library(tibble)\n",
        "FF <- fourfactors(Tbox, Obox)\n",
        "attach(Tbox)\n",
        "attach(FF)\n",
        "X <- data.frame(PTS, P2M, P3M, FTM, REB=OREB+DREB, AST,\n",
        "STL, BLK, ORtg, DRtg)\n",
        "detach(Tbox)\n",
        "detach(FF)\n",
        "Playoff <- Tadd$Playoff\n",
        "eta <- sapply(X, function(Y){\n",
        " cm <- round(tapply(Y, Playoff, mean), 1)\n",
        " eta2 <- etaSquared(aov(Y~Playoff))[1]*100\n",
        " c(cm, round(eta2, 2))\n",
        "}) %>%\n",
        " t() %>%\n",
        " as.data.frame() %>%\n",
        " rename(No=N, Yes=Y, eta2=V3) %>%\n",
        " rownames_to_column('rownm') %>%\n",
        " arrange(-eta2) %>%\n",
        " column_to_rownames('rownm')"
      ],
      "execution_count": 0,
      "outputs": []
    },
    {
      "cell_type": "code",
      "metadata": {
        "id": "uM34daJatOuj",
        "colab_type": "code",
        "colab": {}
      },
      "source": [
        "rm(list=ls())\n",
        "data <- subset(Pbox, MIN>=500)\n",
        "attach(data)\n",
        "X <- data.frame(AST, TOV)/MIN\n",
        "detach(data)\n",
        "cor(X$AST, X$TOV)\n",
        "cor(rank(X$AST), rank(X$TOV))\n",
        "cor(X$AST, X$TOV, method=\"spearman\")\n",
        "cor(X)"
      ],
      "execution_count": 0,
      "outputs": []
    },
    {
      "cell_type": "code",
      "metadata": {
        "id": "stcl-p_Ptmmi",
        "colab_type": "code",
        "colab": {}
      },
      "source": [
        "rm(list=ls())\n",
        "data <- merge(Pbox, Tadd, by=\"Team\")\n",
        "data <- subset(data, MIN >= 500)\n",
        "attach(data)\n",
        "X <- data.frame(PTS, P3M, P2M, REB=(OREB+DREB), AST,\n",
        " TOV, STL, BLK)/MIN\n",
        "X <- data.frame(X, Playoff=Playoff)\n",
        "detach(data)\n",
        "corrmatrix <- corranalysis(X[,1:8], threshold=0.5)\n",
        "plot(corrmatrix)\n",
        "scatterplot(X, data.var=1:8, z.var=\"Playoff\",\n",
        "diag=list(continuous=\"blankDiag\"))"
      ],
      "execution_count": 0,
      "outputs": []
    },
    {
      "cell_type": "code",
      "metadata": {
        "id": "j4odZ8_Ztr6a",
        "colab_type": "code",
        "colab": {}
      },
      "source": [
        "rm(list=ls())\n",
        "attach(Pbox)\n",
        "data <- data.frame(PTS, P3M, P2M, REB=OREB+DREB,\n",
        " AST, TOV, STL, BLK)\n",
        "detach(Pbox)\n",
        "data <- subset(data, Pbox$MIN>=1500)\n",
        "id <- Pbox$Player[Pbox$MIN>=1500]\n",
        "mds <- MDSmap(data)\n",
        "plot(mds, labels=id)\n",
        "selp <- which(id==\"Al Horford\" | id==\"Kyle Korver\" |\n",
        " id==\"Myles Turner\" | id==\"Kyle Kuzma\" |\n",
        " id==\"Andrew Wiggins\")\n",
        "plot(mds, labels=id, subset=selp, col.subset=\"tomato\")\n",
        "plot(mds, labels=id, subset=selp, col.subset=\"tomato\",\n",
        "zoom=c(0,3,0,2))\n",
        "plot(mds, z.var=c(\"P2M\",\"P3M\",\"AST\",\"REB\"),\n",
        "level.plot=FALSE, palette=topo.colors)\n",
        "plot(mds, z.var=c(\"P2M\",\"P3M\",\"AST\",\"REB\"),\n",
        "contour=TRUE, palette=topo.colors)"
      ],
      "execution_count": 0,
      "outputs": []
    },
    {
      "cell_type": "code",
      "metadata": {
        "id": "AMXwN-UpuAvr",
        "colab_type": "code",
        "colab": {}
      },
      "source": [
        "rm(list=ls())\n",
        "PbP <- PbPmanipulation(PbP.BDB)\n",
        "PbP.GSW <- subset(PbP, team==\"GSW\")\n",
        "netdata <- assistnet(PbP.GSW)\n",
        "netdata\n",
        "#RNGkind(sample.kind=\"Rounding\")\n",
        "set.seed(7)\n",
        "plot(netdata)\n",
        "plot(netdata, layout=\"circle\", edge.thr=20)\n",
        "cols <- paste0(c(\"a\",\"h\"), rep(1:5,each=2))\n",
        "PbP.GSW.DG0 <- PbP.GSW[!apply(PbP.GSW[,cols], 1, \"%in%\",\n",
        " x=\"Draymond Green\"),]\n",
        "netdata.DG0 <- assistnet(PbP.GSW.DG0)\n",
        "set.seed(1)\n",
        "plot(netdata.DG0)\n",
        "PbP.GSW.DG0 <- subset(PbP.GSW.DG0,\n",
        " ShotType==\"2P\" | ShotType==\"3P\")\n",
        "p0 <- mean(PbP.GSW.DG0$points)\n",
        "pl0 <- mean(PbP.GSW.DG0$playlength)\n",
        "PbP.GSW.DG1 <- PbP.GSW[apply(PbP.GSW[,cols], 1, \"%in%\",\n",
        " x=\"Draymond Green\"),]\n",
        "PbP.GSW.DG1 <- subset(PbP.GSW.DG1,\n",
        " ShotType==\"2P\" | ShotType==\"3P\")\n",
        "p1 <- mean(PbP.GSW.DG1$points)\n",
        "pl1 <- mean(PbP.GSW.DG1$playlength)\n",
        "plot(netdata, layout=\"circle\", edge.thr=20,\n",
        "node.col=\"FGPTS_AST\", node.size=\"ASTPTS\")\n",
        "plot(netdata, layout=\"circle\", edge.thr=20,\n",
        "node.col=\"FGPTS\", node.size=\"FGPTS_ASTp\")"
      ],
      "execution_count": 0,
      "outputs": []
    },
    {
      "cell_type": "code",
      "metadata": {
        "id": "Pf0oBToTuJCL",
        "colab_type": "code",
        "colab": {}
      },
      "source": [
        "TAB <- netdata$assistTable\n",
        "X <- netdata$nodeStats\n",
        "names(X)[1] <- \"Player\"\n",
        "data <- merge(X, Pbox, by=\"Player\")\n",
        "mypal <- colorRampPalette(c(\"blue\",\"yellow\",\"red\"))\n",
        "scatterplot(data, data.var=c(\"FGM\",\"FGM_ASTp\"),\n",
        "z.var=\"MIN\", labels=data$Player,\n",
        "palette=mypal, repel_labels=TRUE)\n"
      ],
      "execution_count": 0,
      "outputs": []
    },
    {
      "cell_type": "code",
      "metadata": {
        "id": "WQEalWHLuSA8",
        "colab_type": "code",
        "colab": {}
      },
      "source": [
        "sel <- which(data$MIN > 984)\n",
        "tab <- TAB[sel,sel]\n",
        "no.pl <- nrow(tab)\n",
        "pR <- pM <- vector(no.pl, mode=\"list\")\n",
        "GiniM <- array(NA, no.pl)\n",
        "GiniR <- array(NA, no.pl)\n",
        "for (pl in 1:no.pl) {\n",
        "ineqplM <- inequality(tab[pl,], npl=no.pl)\n",
        "GiniM[pl] <- ineqplM$Gini\n",
        "ineqplR <- inequality(tab[,pl], npl=no.pl)\n",
        "GiniR[pl] <- ineqplR$Gini\n",
        "title <- rownames(tab)[pl]\n",
        "pM[[pl]] <- plot(ineqplM, title=title)\n",
        "pR[[pl]] <- plot(ineqplR, title=title)\n",
        " }\n",
        "library(gridExtra)\n",
        "grid.arrange(grobs=pM, nrow=2)\n",
        "grid.arrange(grobs=pR, nrow=2)"
      ],
      "execution_count": 0,
      "outputs": []
    },
    {
      "cell_type": "code",
      "metadata": {
        "id": "LyUAegYFuY0r",
        "colab_type": "code",
        "colab": {}
      },
      "source": [
        "library(vcd)\n",
        "assocstats(tab)"
      ],
      "execution_count": 0,
      "outputs": []
    },
    {
      "cell_type": "code",
      "metadata": {
        "id": "MquGTVcmude9",
        "colab_type": "code",
        "colab": {}
      },
      "source": [
        "XX <- data.frame(X[sel,], GiniM, GiniR)\n",
        "labs <- c(\"Gini Index for assists made\",\n",
        " \"Gini Index for assists received\",\n",
        " \"Assists received\", \"Assists made\")\n",
        "bubbleplot(XX, id=\"Player\", x=\"GiniM\", y=\"GiniR\",\n",
        " col=\"FGM_AST\", size=\"AST\",\n",
        " labels=labs, text.size=4)"
      ],
      "execution_count": 0,
      "outputs": []
    },
    {
      "cell_type": "code",
      "metadata": {
        "id": "h8lDMPmYuhnE",
        "colab_type": "code",
        "colab": {}
      },
      "source": [
        "library(tidygraph)\n",
        "library(igraph)\n",
        "library(CINNA)\n",
        "net1 <- as_tbl_graph(netdata$assistNet)\n",
        "class(net1) <- \"igraph\"\n",
        "centr_degree(net1)\n",
        "alpha_centrality(net1)\n",
        "closeness(net1, mode=\"all\")\n",
        "betweenness(net1)\n",
        "calculate_centralities(net1)"
      ],
      "execution_count": 0,
      "outputs": []
    },
    {
      "cell_type": "code",
      "metadata": {
        "id": "tNTBmG_Ouufr",
        "colab_type": "code",
        "colab": {}
      },
      "source": [
        ""
      ],
      "execution_count": 0,
      "outputs": []
    },
    {
      "cell_type": "code",
      "metadata": {
        "id": "GtlOKLD2uylT",
        "colab_type": "code",
        "colab": {}
      },
      "source": [
        "rm(list=ls())\n",
        "PbP <- PbPmanipulation(PbP.BDB)\n",
        "data.team <- subset(PbP, team==\"GSW\" & result!=\"\")\n",
        "data.opp <- subset(PbP, team!=\"GSW\" & result!=\"\")\n",
        "densityplot(data=data.team, shot.type=\"2P\",\n",
        "var=\"periodTime\", best.scorer=TRUE)\n",
        "densityplot(data=data.team, shot.type=\"2P\",\n",
        "var=\"totalTime\", best.scorer=TRUE)\n",
        "densityplot(data=data.team, shot.type=\"2P\",\n",
        "var=\"playlength\", best.scorer=TRUE)\n",
        "densityplot(data=data.team, shot.type=\"2P\",\n",
        "var=\"shot_distance\", best.scorer=TRUE)\n",
        "densityplot(data=data.opp, shot.type=\"2P\",\n",
        "var=\"periodTime\", best.scorer=TRUE)\n",
        "densityplot(data=data.opp, shot.type=\"2P\",\n",
        "var=\"totalTime\",best.scorer=TRUE)\n",
        "densityplot(data=data.opp, shot.type=\"2P\",\n",
        "var=\"playlength\", best.scorer=TRUE)\n",
        "densityplot(data=data.opp, shot.type=\"2P\",\n",
        "var=\"shot_distance\", best.scorer=TRUE)\n",
        "KD <- subset(PbP, player==\"Kevin Durant\" & result!=\"\")\n",
        "SC <- subset(PbP, player==\"Stephen Curry\" & result!=\"\")\n",
        "densityplot(data=KD, shot.type=\"field\",\n",
        "var=\"playlength\")\n",
        "densityplot(data=KD, shot.type=\"field\",\n",
        "var=\"shot_distance\")\n",
        "densityplot(data=SC, shot.type=\"field\",\n",
        "var=\"playlength\")\n",
        "densityplot(data=SC, shot.type=\"field\",\n",
        "var=\"shot_distance\")"
      ],
      "execution_count": 0,
      "outputs": []
    },
    {
      "cell_type": "code",
      "metadata": {
        "id": "Gn1_cPI_w6LZ",
        "colab_type": "code",
        "colab": {}
      },
      "source": [
        "rm(list=ls())\n",
        "PbP <- PbPmanipulation(PbP.BDB)\n",
        "PbP$xx <- PbP$original_x/10\n",
        "PbP$yy <- PbP$original_y/10 - 41.75\n",
        "KT <- subset(PbP, player==\"Klay Thompson\")\n",
        "shotchart(data=KT, x=\"xx\", y=\"yy\",\n",
        " type=\"density-polygons\")\n",
        "shotchart(data=KT, x=\"xx\", y=\"yy\", type=\"density-raster\")\n",
        "shotchart(data=KT, x=\"xx\", y=\"yy\", type=\"density-hexbin\")\n",
        "shotchart(data=KT, x=\"xx\", y=\"yy\",\n",
        " type=\"density-polygons\", scatter=TRUE)\n",
        "shotchart(data=KT, x=\"xx\", y=\"yy\", type=\"density-raster\",\n",
        " scatter=TRUE, pt.col=\"tomato\", pt.alpha=0.1)\n",
        "shotchart(data=KT, x=\"xx\", y=\"yy\", type=\"density-hexbin\",\n",
        " nbins=50, palette=\"bwr\")"
      ],
      "execution_count": 0,
      "outputs": []
    },
    {
      "cell_type": "code",
      "metadata": {
        "id": "xNfJ_vouxAft",
        "colab_type": "code",
        "colab": {}
      },
      "source": [
        "rm(list=ls())\n",
        "data <- subset(Pbox, MIN>=500)\n",
        "attach(data)\n",
        "X <- data.frame(PTS, P3M, P2M, REB=OREB+DREB, AST)/MIN\n",
        "detach(data)\n",
        "scatterplot(X, data.var=1:5,\n",
        "lower=list(continuous=\"density\"),\n",
        "diag=list(continuous=\"densityDiag\"))"
      ],
      "execution_count": 0,
      "outputs": []
    },
    {
      "cell_type": "code",
      "metadata": {
        "id": "e7KIoOoixHwF",
        "colab_type": "code",
        "colab": {}
      },
      "source": [
        ""
      ],
      "execution_count": 0,
      "outputs": []
    }
  ]
}