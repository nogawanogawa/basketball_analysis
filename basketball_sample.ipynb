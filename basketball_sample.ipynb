{
  "nbformat": 4,
  "nbformat_minor": 0,
  "metadata": {
    "kernelspec": {
      "display_name": "R",
      "language": "R",
      "name": "ir"
    },
    "language_info": {
      "codemirror_mode": "r",
      "file_extension": ".r",
      "mimetype": "text/x-r-source",
      "name": "R",
      "pygments_lexer": "r",
      "version": "3.6.0"
    },
    "colab": {
      "name": "basketball_sample.ipynb",
      "provenance": [],
      "collapsed_sections": [],
      "include_colab_link": true
    }
  },
  "cells": [
    {
      "cell_type": "markdown",
      "metadata": {
        "id": "view-in-github",
        "colab_type": "text"
      },
      "source": [
        "<a href=\"https://colab.research.google.com/github/nogawanogawa/basketball_analysis/blob/master/basketball_sample.ipynb\" target=\"_parent\"><img src=\"https://colab.research.google.com/assets/colab-badge.svg\" alt=\"Open In Colab\"/></a>"
      ]
    },
    {
      "cell_type": "markdown",
      "metadata": {
        "id": "CDQKZFb7R1B_",
        "colab_type": "text"
      },
      "source": [
        "# 必要なライブラリのインストール"
      ]
    },
    {
      "cell_type": "code",
      "metadata": {
        "id": "M6YRCqil-8RK",
        "colab_type": "code",
        "colab": {}
      },
      "source": [
        "install.packages(\"devtools\", repos=\"https://cran.stat.unipd.it/\")\n",
        "install.packages(\"vcd\")\n",
        "install.packages(\"plotly\")\n",
        "install.packages(\"lsr\")\n",
        "install.packages(\"tidygraph\")\n",
        "install.packages(\"CINNA\")"
      ],
      "execution_count": 0,
      "outputs": []
    },
    {
      "cell_type": "code",
      "metadata": {
        "scrolled": true,
        "id": "HwQQ9pKx-8RZ",
        "colab_type": "code",
        "colab": {}
      },
      "source": [
        "devtools::install_github(\"sndmrc/BasketballAnalyzeR\") "
      ],
      "execution_count": 0,
      "outputs": []
    },
    {
      "cell_type": "code",
      "metadata": {
        "id": "CPHNX_kn-8Re",
        "colab_type": "code",
        "colab": {}
      },
      "source": [
        " library(BasketballAnalyzeR)"
      ],
      "execution_count": 0,
      "outputs": []
    },
    {
      "cell_type": "markdown",
      "metadata": {
        "id": "YU9fmvSMrBCR",
        "colab_type": "text"
      },
      "source": [
        "# CHAPTER 2 \n",
        "# Data and Basic Statistical Analyses \n"
      ]
    },
    {
      "cell_type": "code",
      "metadata": {
        "id": "CkCCMZtTAnZG",
        "colab_type": "code",
        "colab": {}
      },
      "source": [
        "PbP <- PbPmanipulation(PbP.BDB)"
      ],
      "execution_count": 0,
      "outputs": []
    },
    {
      "cell_type": "code",
      "metadata": {
        "id": "yXGW1qkmCo5E",
        "colab_type": "code",
        "colab": {}
      },
      "source": [
        "rm(list=ls())\n",
        "tm <- c(\"BOS\",\"CLE\",\"GSW\",\"HOU\")\n",
        "selTeams <- which(Tadd$team %in% tm)\n",
        "FF.sel <- fourfactors(Tbox[selTeams,], Obox[selTeams,])\n",
        "plot(FF.sel)"
      ],
      "execution_count": 0,
      "outputs": []
    },
    {
      "cell_type": "code",
      "metadata": {
        "id": "-H68ywzfnxq7",
        "colab_type": "code",
        "colab": {}
      },
      "source": [
        "FF <- fourfactors(Tbox,Obox)\n",
        "listPlots <- plot(FF)\n",
        "library(gridExtra)\n",
        "grid.arrange(grobs=listPlots[1:2], ncol=1)"
      ],
      "execution_count": 0,
      "outputs": []
    },
    {
      "cell_type": "code",
      "metadata": {
        "id": "1LdJWM_7wlhQ",
        "colab_type": "code",
        "colab": {}
      },
      "source": [
        "rm(list=ls())\n",
        "X <- data.frame(Tbox, PTS.O=Obox$PTS, TOV.O=Obox$TOV,\n",
        "CONF=Tadd$Conference)\n",
        "XW <- subset(X, CONF==\"W\")\n",
        "labs <- c(\"Steals\",\"Blocks\",\"Defensive Rebounds\")\n",
        "barline(data=XW, id=\"Team\", bars=c(\"STL\",\"BLK\",\"DREB\"),\n",
        "line=\"TOV.O\", order.by=\"PTS.O\", labels.bars=labs)\n",
        "Pbox.HR <- subset(Pbox, Team==\"Houston Rockets\" &\n",
        " MIN>=500)\n",
        "barline(data=Pbox.HR, id=\"Player\",\n",
        "bars=c(\"P2p\",\"P3p\",\"FTp\"), line=\"MIN\",\n",
        "order.by=\"PM\", labels.bars=c(\"2P%\",\"3P%\",\"FT%\"),\n",
        "title=\"Houston Rockets\")"
      ],
      "execution_count": 0,
      "outputs": []
    },
    {
      "cell_type": "code",
      "metadata": {
        "id": "Aic_wnHnwvqW",
        "colab_type": "code",
        "colab": {}
      },
      "source": [
        "rm(list=ls())\n",
        "Pbox.PG <- subset(Pbox, Player==\"Russell Westbrook\" |\n",
        " Player==\"Stephen Curry\" |\n",
        " Player==\"Chris Paul\" |\n",
        " Player==\"Kyrie Irving\" |\n",
        " Player==\"Damian Lillard\" |\n",
        " Player==\"Kyle Lowry\" |\n",
        " Player==\"John Wall\" |\n",
        " Player==\"Rajon Rondo\" |\n",
        " Player==\"Kemba Walker\")\n",
        "attach(Pbox.PG)\n",
        "X <- data.frame(P2M, P3M, FTM, REB=OREB+DREB, AST,\n",
        "STL, BLK)/MIN\n",
        "detach(Pbox.PG)\n",
        "radialprofile(data=X, title=Pbox.PG$Player, std=FALSE)\n",
        "radialprofile(data=X, title=Pbox.PG$Player, std=TRUE) "
      ],
      "execution_count": 0,
      "outputs": []
    },
    {
      "cell_type": "code",
      "metadata": {
        "id": "7UElI3Law1iA",
        "colab_type": "code",
        "colab": {}
      },
      "source": [
        "rm(list=ls())\n",
        "Pbox.sel <- subset(Pbox, MIN>= 500)\n",
        "attach(Pbox.sel)\n",
        "X <- data.frame(AST, TOV, PTS)/MIN\n",
        "detach(Pbox.sel)\n",
        "mypal <- colorRampPalette(c(\"blue\",\"yellow\",\"red\"))\n",
        "scatterplot(X, data.var=c(\"AST\",\"TOV\"), z.var=\"PTS\",\n",
        "labels=1:nrow(X), palette=mypal)\n",
        "SAS <- which(Pbox.sel$Team==\"San Antonio Spurs\")\n",
        "scatterplot(X, data.var=c(\"AST\",\"TOV\"), z.var=\"PTS\",\n",
        "labels=Pbox.sel$Player, palette=mypal,\n",
        "subset=SAS)\n",
        "SAS <- which(Pbox.sel$Team==\"San Antonio Spurs\")\n",
        "scatterplot(X, data.var=c(\"AST\",\"TOV\"), z.var=\"PTS\",\n",
        "labels=Pbox.sel$Player, palette=mypal,\n",
        "subset=SAS, zoom=c(0.20,0.325,0.05,0.10))"
      ],
      "execution_count": 0,
      "outputs": []
    },
    {
      "cell_type": "code",
      "metadata": {
        "id": "kpPOA2NnxAW-",
        "colab_type": "code",
        "colab": {}
      },
      "source": [
        "rm(list=ls())\n",
        "attach(Tbox)\n",
        "X <- data.frame(T=Team, P2p, P3p, FTp, AS=P2A+P3A+FTA)\n",
        "detach(Tbox)\n",
        "labs <- c(\"2-point shots (% made)\",\n",
        " \"3-point shots (% made)\",\n",
        " \"free throws (% made)\",\n",
        " \"Total shots attempted\")\n",
        "bubbleplot(X, id=\"T\", x=\"P2p\", y=\"P3p\", col=\"FTp\",\n",
        " size=\"AS\", labels=labs)\n",
        "Pbox.GSW.CC <- subset(Pbox,\n",
        " (Team==\"Golden State Warriors\" |\n",
        " Team ==\"Cleveland Cavaliers\") &\n",
        " MIN>=500)\n",
        "attach(Pbox.GSW.CC)\n",
        "X <- data.frame(ID=Player, Team, V1=DREB/MIN, V2=STL/MIN,\n",
        "V3=BLK/MIN, V4=MIN)\n",
        "detach(Pbox.GSW.CC)\n",
        "labs <- c(\"Defensive Rebounds\",\"Steals\",\"Blocks\",\n",
        " \"Total minutes played\")\n",
        "bubbleplot(X, id=\"ID\", x=\"V1\", y=\"V2\", col=\"V3\",\n",
        " size=\"V4\", text.col=\"Team\", labels=labs,\n",
        " title=\"GSW and CC during the regular season\",\n",
        " text.legend=TRUE, text.size=3.5, scale=FALSE)"
      ],
      "execution_count": 0,
      "outputs": []
    },
    {
      "cell_type": "code",
      "metadata": {
        "id": "0wginlV1xLI9",
        "colab_type": "code",
        "colab": {}
      },
      "source": [
        "rm(list=ls())\n",
        "Pbox.OKC <- subset(Pbox, Team==\"Oklahoma City Thunder\"\n",
        " & MIN>=500)\n",
        "vrb1 <- variability(data=Pbox.OKC, data.var=\"P3p\",\n",
        "size.var=\"P3A\")\n",
        "vrb1 <- variability(data=Pbox.OKC, data.var=\"P3p\",\n",
        "size.var=\"P3A\",weight=TRUE)\n",
        "vrb2 <- variability(data=Pbox.OKC,\n",
        "data.var=c(\"P2p\",\"P3p\",\"FTp\"),\n",
        "size.var=c(\"P2A\",\"P3A\",\"FTA\"),\n",
        "weight=TRUE)\n",
        "plot(vrb2, title=\"Variability diagram - OKC\")"
      ],
      "execution_count": 0,
      "outputs": []
    },
    {
      "cell_type": "code",
      "metadata": {
        "id": "WeejYl_exbLp",
        "colab_type": "code",
        "colab": {}
      },
      "source": [
        "rm(list=ls())\n",
        "Pbox.BN <- subset(Pbox, Team==\"Brooklyn Nets\")\n",
        "ineqBN <- inequality(Pbox.BN$PTS, nplayers=8)\n",
        "Pbox.MB <- subset(Pbox, Team==\"Milwaukee Bucks\")\n",
        "ineqMB <- inequality(Pbox.MB$PTS, nplayers=8)\n",
        "library(gridExtra)\n",
        "p1 <- plot(ineqBN, title=\"Brooklyn Nets\")\n",
        "p2 <- plot(ineqMB, title=\"Milwaukee Bucks\")\n",
        "grid.arrange(p1, p2, nrow=1)\n",
        "no.teams <- nrow(Tbox)\n",
        "INEQ <- array(0, no.teams)\n",
        "for (k in 1:no.teams) {\n",
        "Teamk <- Tbox$Team[k]\n",
        "Pbox.sel <- subset(Pbox, Team==Teamk)\n",
        "index <- inequality(Pbox.sel$PTS, npl=8)\n",
        "INEQ[k] <- index$Gini\n",
        " }\n",
        "dts <- data.frame(INEQ, PTS=Tbox$PTS,\n",
        " CONF=Tadd$Conference)\n",
        "mypal <- colorRampPalette(c(\"blue\",\"red\"))\n",
        "scatterplot(dts, data.var=c(\"INEQ\",\"PTS\"), z.var=\"CONF\",\n",
        "labels=Tbox$Team, palette=mypal,\n",
        "repel_labels=TRUE)"
      ],
      "execution_count": 0,
      "outputs": []
    },
    {
      "cell_type": "code",
      "metadata": {
        "id": "cLmhMmRxxmM4",
        "colab_type": "code",
        "colab": {}
      },
      "source": [
        "rm(list=ls())\n",
        "PbP <- PbPmanipulation(PbP.BDB)\n",
        "PbP.GSW <- subset(PbP, team=\"GSW\")\n",
        "lineup <- c(\"Stephen Curry\", \"Kevin Durant\",\n",
        " \"Klay Thompson\", \"Draymond Green\",\n",
        " \"Zaza Pachulia\")\n",
        "filt5 <- apply(PbP.GSW[, 4:13], 1,\n",
        " function(x) {\n",
        " x <- as.character(x)\n",
        " sum(x %in% lineup)==5\n",
        " })\n",
        "subPbP.GSW <- PbP.GSW[filt5, ]\n",
        "PTS5 <- sapply(lineup,\n",
        " function(x) {\n",
        " filt <- subPbP.GSW$player==x\n",
        " sum(subPbP.GSW$points[filt], na.rm=T)\n",
        " })\n",
        "inequality(PTS5,nplayer=5)"
      ],
      "execution_count": 0,
      "outputs": []
    },
    {
      "cell_type": "code",
      "metadata": {
        "id": "3JqRPgpkxuPK",
        "colab_type": "code",
        "colab": {}
      },
      "source": [
        "rm(list=ls())\n",
        "PbP <- PbPmanipulation(PbP.BDB)\n",
        "PbP.GSW.DET <- subset(PbP, team==\"GSW\" & oppTeam==\"DET\")\n",
        "lineup <- c(\"Stephen Curry\", \"Kevin Durant\",\n",
        " \"Klay Thompson\", \"Draymond Green\",\n",
        " \"Zaza Pachulia\")\n",
        "filt5 <- apply(PbP.GSW.DET[, 4:13], 1,\n",
        " function(x) {\n",
        " x <- as.character(x)\n",
        " sum(x %in% lineup)==5\n",
        " })\n",
        "subPbP.GSW.DET <- PbP.GSW.DET[filt5, ]\n",
        "PTS5 <- sapply(lineup,\n",
        " function(x) {\n",
        " filt <- subPbP.GSW.DET$player==x\n",
        " sum(subPbP.GSW.DET$points[filt], na.rm=T)\n",
        " })\n",
        "inequality(PTS5,nplayer=5)"
      ],
      "execution_count": 0,
      "outputs": []
    },
    {
      "cell_type": "code",
      "metadata": {
        "id": "TRek7anwxxv9",
        "colab_type": "code",
        "colab": {}
      },
      "source": [
        "rm(list=ls())\n",
        "PbP <- PbPmanipulation(PbP.BDB)\n",
        "subdata <- subset(PbP, player==\"Kevin Durant\")\n",
        "subdata$xx <- subdata$original_x/10\n",
        "subdata$yy <- subdata$original_y/10-41.75\n",
        "shotchart(data=subdata, x=\"xx\", y=\"yy\", type=NULL,\n",
        " scatter=TRUE)\n",
        "shotchart(data=subdata, x=\"xx\", y=\"yy\", z=\"result\", type=NULL,\n",
        " scatter=TRUE)\n",
        "shotchart(data=subdata, x=\"xx\", y=\"yy\", z=\"playlength\",\n",
        " num.sect=5, type=\"sectors\", scatter = TRUE)\n",
        "shotchart(data=subdata, x=\"xx\", y=\"yy\", z=\"playlength\",\n",
        " num.sect=5, type=\"sectors\", scatter=FALSE, result=\"result\")"
      ],
      "execution_count": 0,
      "outputs": []
    },
    {
      "cell_type": "markdown",
      "metadata": {
        "id": "rpaT4sTQsO01",
        "colab_type": "text"
      },
      "source": [
        "# CHAPTER 3 \n",
        "# Discovering Patterns in Data "
      ]
    },
    {
      "cell_type": "markdown",
      "metadata": {
        "id": "ZicXoqijDZ8x",
        "colab_type": "text"
      },
      "source": [
        "### Statistical dependence\n",
        "\n",
        "GSWの値は相手チームにあまり依存しないという結果になった。\n",
        "（ただし、ピアソンのX2=116.25が0.011であるため、関連は0ではない）"
      ]
    },
    {
      "cell_type": "code",
      "metadata": {
        "id": "lEPka4jzyVon",
        "colab_type": "code",
        "colab": {}
      },
      "source": [
        "rm(list=ls())\n",
        "PbP <- PbPmanipulation(PbP.BDB)\n",
        "PbP.GSW <- subset(PbP, team==\"GSW\")\n",
        "ev <- c(\"ejection\",\"end of period\",\"jump ball\",\n",
        "\"start of period\",\"unknown\",\"violation\",\n",
        "\"timeout\",\"sub\",\"foul\",\"turnover\")\n",
        "event.unsel <- which(PbP.GSW$event_type %in% ev)\n",
        "PbP.GSW.ev <- PbP.GSW[-event.unsel,]\n",
        "attach(PbP.GSW.ev)\n",
        "T <- table(oppTeam, event_type, exclude=ev)\n",
        "detach(PbP.GSW.ev)\n",
        "library(vcd)\n",
        "assocstats(T)"
      ],
      "execution_count": 0,
      "outputs": []
    },
    {
      "cell_type": "markdown",
      "metadata": {
        "id": "-9YPu09tEuzy",
        "colab_type": "text"
      },
      "source": [
        ""
      ]
    },
    {
      "cell_type": "code",
      "metadata": {
        "id": "HtGyXY_VsaTz",
        "colab_type": "code",
        "colab": {}
      },
      "source": [
        "rm(list=ls())\n",
        "library(dplyr)\n",
        "library(lsr)\n",
        "library(tibble)\n",
        "FF <- fourfactors(Tbox, Obox)\n",
        "attach(Tbox)\n",
        "attach(FF)\n",
        "X <- data.frame(PTS, P2M, P3M, FTM, REB=OREB+DREB, AST,\n",
        "STL, BLK, ORtg, DRtg)\n",
        "detach(Tbox)\n",
        "detach(FF)\n",
        "Playoff <- Tadd$Playoff\n",
        "eta <- sapply(X, function(Y){\n",
        " cm <- round(tapply(Y, Playoff, mean), 1)\n",
        " eta2 <- etaSquared(aov(Y~Playoff))[1]*100\n",
        " c(cm, round(eta2, 2))\n",
        "}) %>%\n",
        " t() %>%\n",
        " as.data.frame() %>%\n",
        " rename(No=N, Yes=Y, eta2=V3) %>%\n",
        " rownames_to_column('rownm') %>%\n",
        " arrange(-eta2) %>%\n",
        " column_to_rownames('rownm')"
      ],
      "execution_count": 0,
      "outputs": []
    },
    {
      "cell_type": "code",
      "metadata": {
        "id": "uM34daJatOuj",
        "colab_type": "code",
        "colab": {}
      },
      "source": [
        "rm(list=ls())\n",
        "data <- subset(Pbox, MIN>=500)\n",
        "attach(data)\n",
        "X <- data.frame(AST, TOV)/MIN\n",
        "detach(data)\n",
        "cor(X$AST, X$TOV)\n",
        "cor(rank(X$AST), rank(X$TOV))\n",
        "cor(X$AST, X$TOV, method=\"spearman\")\n",
        "cor(X)"
      ],
      "execution_count": 0,
      "outputs": []
    },
    {
      "cell_type": "code",
      "metadata": {
        "id": "stcl-p_Ptmmi",
        "colab_type": "code",
        "colab": {}
      },
      "source": [
        "rm(list=ls())\n",
        "data <- merge(Pbox, Tadd, by=\"Team\")\n",
        "data <- subset(data, MIN >= 500)\n",
        "attach(data)\n",
        "X <- data.frame(PTS, P3M, P2M, REB=(OREB+DREB), AST,\n",
        " TOV, STL, BLK)/MIN\n",
        "X <- data.frame(X, Playoff=Playoff)\n",
        "detach(data)\n",
        "corrmatrix <- corranalysis(X[,1:8], threshold=0.5)\n",
        "plot(corrmatrix)\n",
        "scatterplot(X, data.var=1:8, z.var=\"Playoff\",\n",
        "diag=list(continuous=\"blankDiag\"))"
      ],
      "execution_count": 0,
      "outputs": []
    },
    {
      "cell_type": "code",
      "metadata": {
        "id": "j4odZ8_Ztr6a",
        "colab_type": "code",
        "colab": {}
      },
      "source": [
        "rm(list=ls())\n",
        "attach(Pbox)\n",
        "data <- data.frame(PTS, P3M, P2M, REB=OREB+DREB,\n",
        " AST, TOV, STL, BLK)\n",
        "detach(Pbox)\n",
        "data <- subset(data, Pbox$MIN>=1500)\n",
        "id <- Pbox$Player[Pbox$MIN>=1500]\n",
        "mds <- MDSmap(data)\n",
        "plot(mds, labels=id)\n",
        "selp <- which(id==\"Al Horford\" | id==\"Kyle Korver\" |\n",
        " id==\"Myles Turner\" | id==\"Kyle Kuzma\" |\n",
        " id==\"Andrew Wiggins\")\n",
        "plot(mds, labels=id, subset=selp, col.subset=\"tomato\")\n",
        "plot(mds, labels=id, subset=selp, col.subset=\"tomato\",\n",
        "zoom=c(0,3,0,2))\n",
        "plot(mds, z.var=c(\"P2M\",\"P3M\",\"AST\",\"REB\"),\n",
        "level.plot=FALSE, palette=topo.colors)\n",
        "plot(mds, z.var=c(\"P2M\",\"P3M\",\"AST\",\"REB\"),\n",
        "contour=TRUE, palette=topo.colors)"
      ],
      "execution_count": 0,
      "outputs": []
    },
    {
      "cell_type": "code",
      "metadata": {
        "id": "AMXwN-UpuAvr",
        "colab_type": "code",
        "colab": {}
      },
      "source": [
        "rm(list=ls())\n",
        "PbP <- PbPmanipulation(PbP.BDB)\n",
        "PbP.GSW <- subset(PbP, team==\"GSW\")\n",
        "netdata <- assistnet(PbP.GSW)\n",
        "netdata\n",
        "#RNGkind(sample.kind=\"Rounding\")\n",
        "set.seed(7)\n",
        "plot(netdata)\n",
        "plot(netdata, layout=\"circle\", edge.thr=20)\n",
        "cols <- paste0(c(\"a\",\"h\"), rep(1:5,each=2))\n",
        "PbP.GSW.DG0 <- PbP.GSW[!apply(PbP.GSW[,cols], 1, \"%in%\",\n",
        " x=\"Draymond Green\"),]\n",
        "netdata.DG0 <- assistnet(PbP.GSW.DG0)\n",
        "set.seed(1)\n",
        "plot(netdata.DG0)\n",
        "PbP.GSW.DG0 <- subset(PbP.GSW.DG0,\n",
        " ShotType==\"2P\" | ShotType==\"3P\")\n",
        "p0 <- mean(PbP.GSW.DG0$points)\n",
        "pl0 <- mean(PbP.GSW.DG0$playlength)\n",
        "PbP.GSW.DG1 <- PbP.GSW[apply(PbP.GSW[,cols], 1, \"%in%\",\n",
        " x=\"Draymond Green\"),]\n",
        "PbP.GSW.DG1 <- subset(PbP.GSW.DG1,\n",
        " ShotType==\"2P\" | ShotType==\"3P\")\n",
        "p1 <- mean(PbP.GSW.DG1$points)\n",
        "pl1 <- mean(PbP.GSW.DG1$playlength)\n",
        "plot(netdata, layout=\"circle\", edge.thr=20,\n",
        "node.col=\"FGPTS_AST\", node.size=\"ASTPTS\")\n",
        "plot(netdata, layout=\"circle\", edge.thr=20,\n",
        "node.col=\"FGPTS\", node.size=\"FGPTS_ASTp\")"
      ],
      "execution_count": 0,
      "outputs": []
    },
    {
      "cell_type": "code",
      "metadata": {
        "id": "Pf0oBToTuJCL",
        "colab_type": "code",
        "colab": {}
      },
      "source": [
        "TAB <- netdata$assistTable\n",
        "X <- netdata$nodeStats\n",
        "names(X)[1] <- \"Player\"\n",
        "data <- merge(X, Pbox, by=\"Player\")\n",
        "mypal <- colorRampPalette(c(\"blue\",\"yellow\",\"red\"))\n",
        "scatterplot(data, data.var=c(\"FGM\",\"FGM_ASTp\"),\n",
        "z.var=\"MIN\", labels=data$Player,\n",
        "palette=mypal, repel_labels=TRUE)\n"
      ],
      "execution_count": 0,
      "outputs": []
    },
    {
      "cell_type": "code",
      "metadata": {
        "id": "WQEalWHLuSA8",
        "colab_type": "code",
        "colab": {}
      },
      "source": [
        "sel <- which(data$MIN > 984)\n",
        "tab <- TAB[sel,sel]\n",
        "no.pl <- nrow(tab)\n",
        "pR <- pM <- vector(no.pl, mode=\"list\")\n",
        "GiniM <- array(NA, no.pl)\n",
        "GiniR <- array(NA, no.pl)\n",
        "for (pl in 1:no.pl) {\n",
        "ineqplM <- inequality(tab[pl,], npl=no.pl)\n",
        "GiniM[pl] <- ineqplM$Gini\n",
        "ineqplR <- inequality(tab[,pl], npl=no.pl)\n",
        "GiniR[pl] <- ineqplR$Gini\n",
        "title <- rownames(tab)[pl]\n",
        "pM[[pl]] <- plot(ineqplM, title=title)\n",
        "pR[[pl]] <- plot(ineqplR, title=title)\n",
        " }\n",
        "library(gridExtra)\n",
        "grid.arrange(grobs=pM, nrow=2)\n",
        "grid.arrange(grobs=pR, nrow=2)"
      ],
      "execution_count": 0,
      "outputs": []
    },
    {
      "cell_type": "code",
      "metadata": {
        "id": "LyUAegYFuY0r",
        "colab_type": "code",
        "colab": {}
      },
      "source": [
        "library(vcd)\n",
        "assocstats(tab)"
      ],
      "execution_count": 0,
      "outputs": []
    },
    {
      "cell_type": "code",
      "metadata": {
        "id": "MquGTVcmude9",
        "colab_type": "code",
        "colab": {}
      },
      "source": [
        "XX <- data.frame(X[sel,], GiniM, GiniR)\n",
        "labs <- c(\"Gini Index for assists made\",\n",
        " \"Gini Index for assists received\",\n",
        " \"Assists received\", \"Assists made\")\n",
        "bubbleplot(XX, id=\"Player\", x=\"GiniM\", y=\"GiniR\",\n",
        " col=\"FGM_AST\", size=\"AST\",\n",
        " labels=labs, text.size=4)"
      ],
      "execution_count": 0,
      "outputs": []
    },
    {
      "cell_type": "code",
      "metadata": {
        "id": "h8lDMPmYuhnE",
        "colab_type": "code",
        "colab": {}
      },
      "source": [
        "library(tidygraph)\n",
        "library(igraph)\n",
        "library(CINNA)\n",
        "net1 <- as_tbl_graph(netdata$assistNet)\n",
        "class(net1) <- \"igraph\"\n",
        "centr_degree(net1)\n",
        "alpha_centrality(net1)\n",
        "closeness(net1, mode=\"all\")\n",
        "betweenness(net1)\n",
        "calculate_centralities(net1)"
      ],
      "execution_count": 0,
      "outputs": []
    },
    {
      "cell_type": "code",
      "metadata": {
        "id": "tNTBmG_Ouufr",
        "colab_type": "code",
        "colab": {}
      },
      "source": [
        ""
      ],
      "execution_count": 0,
      "outputs": []
    },
    {
      "cell_type": "code",
      "metadata": {
        "id": "GtlOKLD2uylT",
        "colab_type": "code",
        "colab": {}
      },
      "source": [
        "rm(list=ls())\n",
        "PbP <- PbPmanipulation(PbP.BDB)\n",
        "data.team <- subset(PbP, team==\"GSW\" & result!=\"\")\n",
        "data.opp <- subset(PbP, team!=\"GSW\" & result!=\"\")\n",
        "densityplot(data=data.team, shot.type=\"2P\",\n",
        "var=\"periodTime\", best.scorer=TRUE)\n",
        "densityplot(data=data.team, shot.type=\"2P\",\n",
        "var=\"totalTime\", best.scorer=TRUE)\n",
        "densityplot(data=data.team, shot.type=\"2P\",\n",
        "var=\"playlength\", best.scorer=TRUE)\n",
        "densityplot(data=data.team, shot.type=\"2P\",\n",
        "var=\"shot_distance\", best.scorer=TRUE)\n",
        "densityplot(data=data.opp, shot.type=\"2P\",\n",
        "var=\"periodTime\", best.scorer=TRUE)\n",
        "densityplot(data=data.opp, shot.type=\"2P\",\n",
        "var=\"totalTime\",best.scorer=TRUE)\n",
        "densityplot(data=data.opp, shot.type=\"2P\",\n",
        "var=\"playlength\", best.scorer=TRUE)\n",
        "densityplot(data=data.opp, shot.type=\"2P\",\n",
        "var=\"shot_distance\", best.scorer=TRUE)\n",
        "KD <- subset(PbP, player==\"Kevin Durant\" & result!=\"\")\n",
        "SC <- subset(PbP, player==\"Stephen Curry\" & result!=\"\")\n",
        "densityplot(data=KD, shot.type=\"field\",\n",
        "var=\"playlength\")\n",
        "densityplot(data=KD, shot.type=\"field\",\n",
        "var=\"shot_distance\")\n",
        "densityplot(data=SC, shot.type=\"field\",\n",
        "var=\"playlength\")\n",
        "densityplot(data=SC, shot.type=\"field\",\n",
        "var=\"shot_distance\")"
      ],
      "execution_count": 0,
      "outputs": []
    },
    {
      "cell_type": "code",
      "metadata": {
        "id": "Gn1_cPI_w6LZ",
        "colab_type": "code",
        "colab": {}
      },
      "source": [
        "rm(list=ls())\n",
        "PbP <- PbPmanipulation(PbP.BDB)\n",
        "PbP$xx <- PbP$original_x/10\n",
        "PbP$yy <- PbP$original_y/10 - 41.75\n",
        "KT <- subset(PbP, player==\"Klay Thompson\")\n",
        "shotchart(data=KT, x=\"xx\", y=\"yy\",\n",
        " type=\"density-polygons\")\n",
        "shotchart(data=KT, x=\"xx\", y=\"yy\", type=\"density-raster\")\n",
        "shotchart(data=KT, x=\"xx\", y=\"yy\", type=\"density-hexbin\")\n",
        "shotchart(data=KT, x=\"xx\", y=\"yy\",\n",
        " type=\"density-polygons\", scatter=TRUE)\n",
        "shotchart(data=KT, x=\"xx\", y=\"yy\", type=\"density-raster\",\n",
        " scatter=TRUE, pt.col=\"tomato\", pt.alpha=0.1)\n",
        "shotchart(data=KT, x=\"xx\", y=\"yy\", type=\"density-hexbin\",\n",
        " nbins=50, palette=\"bwr\")"
      ],
      "execution_count": 0,
      "outputs": []
    },
    {
      "cell_type": "code",
      "metadata": {
        "id": "xNfJ_vouxAft",
        "colab_type": "code",
        "colab": {}
      },
      "source": [
        "rm(list=ls())\n",
        "data <- subset(Pbox, MIN>=500)\n",
        "attach(data)\n",
        "X <- data.frame(PTS, P3M, P2M, REB=OREB+DREB, AST)/MIN\n",
        "detach(data)\n",
        "scatterplot(X, data.var=1:5,\n",
        "lower=list(continuous=\"density\"),\n",
        "diag=list(continuous=\"densityDiag\"))"
      ],
      "execution_count": 0,
      "outputs": []
    },
    {
      "cell_type": "markdown",
      "metadata": {
        "id": "AzHuHSGg3Icw",
        "colab_type": "text"
      },
      "source": [
        "# CHAPTER 4                                \n",
        "# Findings Groups in Data   "
      ]
    },
    {
      "cell_type": "code",
      "metadata": {
        "id": "0Ko9iWkH3GrH",
        "colab_type": "code",
        "colab": {}
      },
      "source": [
        "rm(list=ls())\n",
        "\n",
        "FF <- fourfactors(Tbox,Obox)\n",
        "OD.Rtg <- FF$ORtg/FF$DRtg\n",
        "F1.r <- FF$F1.Off/FF$F1.Def\n",
        "F2.r <- FF$F2.Def/FF$F2.Off\n",
        "F3.Off <- FF$F3.Off\n",
        "F3.Def <- FF$F3.Def\n",
        "P3M <- Tbox$P3M\n",
        "STL.r <- Tbox$STL/Obox$STL\n",
        "data <- data.frame(OD.Rtg, F1.r, F2.r, F3.Off, F3.Def,\n",
        "\t\t\t\t   P3M, STL.r)"
      ],
      "execution_count": 0,
      "outputs": []
    },
    {
      "cell_type": "code",
      "metadata": {
        "id": "e7KIoOoixHwF",
        "colab_type": "code",
        "colab": {}
      },
      "source": [
        "set.seed(29)\n",
        "kclu1 <- kclustering(data)\n",
        "plot(kclu1)\n",
        "\n",
        "set.seed(29)\n",
        "kclu2 <- kclustering(data, labels=Tbox$Team, k=5)\n",
        "plot(kclu2)\n",
        "\n",
        "\n",
        "kclu2.PO <- table(kclu2$Subjects$Cluster, Tadd$Playoff)\n",
        "kclu2.W <- tapply(Tbox$W, kclu2$Subjects$Cluster, mean)\n",
        "\n",
        "Xbar <- data.frame(cluster=c(1:5), N=kclu2.PO[,1],\n",
        "\t\t\t\t   Y=kclu2.PO[,2], W=kclu2.W)\n",
        "barline(data=Xbar, id=\"cluster\", bars=c(\"N\",\"Y\"),\n",
        "\t\tlabels.bars=c(\"Playoff: NO\",\"Playoff: YES\"),\n",
        "\t\tline=\"W\", label.line=\"average wins\",\n",
        "\t\tdecreasing=FALSE)\n",
        "\n",
        "cluster <- as.factor(kclu2$Subjects$Cluster)\n",
        "Xbubble <- data.frame(Team=Tbox$Team, PTS=Tbox$PTS,\n",
        "\t\t\t\t\t  PTS.Opp=Obox$PTS, cluster,\n",
        "\t\t\t\t\t  W=Tbox$W)\n",
        "labs <- c(\"PTS\", \"PTS.Opp\", \"cluster\", \"Wins\")\n",
        "bubbleplot(Xbubble, id=\"Team\", x=\"PTS\", y=\"PTS.Opp\",\n",
        "\t\t   col=\"cluster\", size=\"W\", labels=labs)"
      ],
      "execution_count": 0,
      "outputs": []
    },
    {
      "cell_type": "code",
      "metadata": {
        "id": "WEGxyaPQ3vri",
        "colab_type": "code",
        "colab": {}
      },
      "source": [
        "rm(list=ls())\n",
        "PbP <- PbPmanipulation(PbP.BDB)\n",
        "\n",
        "shots <- subset(PbP,\n",
        "\t\t\t\t!is.na(PbP$shot_distance) &\n",
        "\t\t\t\tPbP$team==\"GSW\")\n",
        "shots <- dplyr::mutate_if(shots, is.factor, droplevels)\n",
        "\n",
        "attach(shots)\n",
        "data <- data.frame(PTS=points, DIST=shot_distance,\n",
        "\t\t\t\t   TIMEQ=periodTime, PL=playlength)\n",
        "detach(shots)\n",
        "#RNGkind(sample.kind=\"Rounding\")\n",
        "set.seed(1)\n",
        "kclu1 <- kclustering(data, algorithm=\"MacQueen\",\n",
        "\t\t\t\t\t nclumax=15, iter.max=500)\n",
        "plot(kclu1)\n",
        "\n",
        "set.seed(1)\n",
        "kclu2 <- kclustering(data, algorithm=\"MacQueen\",\n",
        "\t\t\t\t\t iter.max=500, k=6)\n",
        "plot(kclu2)"
      ],
      "execution_count": 0,
      "outputs": []
    },
    {
      "cell_type": "code",
      "metadata": {
        "id": "LyfXmaXp32fO",
        "colab_type": "code",
        "colab": {}
      },
      "source": [
        "cluster <- as.factor(kclu2$Subjects$Cluster)\n",
        "shots <- data.frame(shots, cluster)\n",
        "shots$xx <- shots$original_x/10\n",
        "shots$yy <- shots$original_y/10 - 41.75\n",
        "\n",
        "no.clu <- 6\n",
        "p1 <- p2 <- vector(no.clu, mode=\"list\")\n",
        "for (k in 1:no.clu) {\n",
        "\t shots.k <- subset(shots,cluster==k)\n",
        "\t p1[[k]] <- shotchart(data=shots.k, x=\"xx\", y=\"yy\",\n",
        "\t\t\t\t\t\t  z=\"result\", type=NULL,\n",
        "\t\t\t\t\t\t  scatter = TRUE,\n",
        "\t\t\t\t\t\t  drop.levels=FALSE)\n",
        "p2[[k]] <- shotchart(data=shots.k, x=\"xx\", y=\"yy\",\n",
        "\t\t\t\t\t z=\"periodTime\",\n",
        "\t\t\t\t\t col.limits=c(0,720),\n",
        "\t\t\t\t\t result=\"result\", num.sect=5,\n",
        "\t\t\t\t\t type=\"sectors\", scatter=FALSE)\n",
        "\t }\n",
        "\n",
        "library(gridExtra)\n",
        "grid.arrange(grobs=p1, nrow=3)\n",
        "grid.arrange(grobs=p2, nrow=3)"
      ],
      "execution_count": 0,
      "outputs": []
    },
    {
      "cell_type": "code",
      "metadata": {
        "id": "krIIzDd234ZG",
        "colab_type": "code",
        "colab": {}
      },
      "source": [
        "shots.pl <- table(shots$player, shots$cluster)\n",
        "Xineq <- as.data.frame.matrix(shots.pl)\n",
        "\n",
        "no.clu <- 6\n",
        "p <- vector(no.clu, mode=\"list\")\n",
        "for (k in 1:no.clu) {\n",
        "\t ineqC <- inequality(Xineq[,k], npl=nrow(Xineq))\n",
        "\t title <- paste(\"Cluster\", k)\n",
        "\t p[[k]] <- plot(ineqC, title=title)\n",
        "}\n",
        "\n",
        "library(gridExtra)\n",
        "grid.arrange(grobs=p, nrow=3)"
      ],
      "execution_count": 0,
      "outputs": []
    },
    {
      "cell_type": "code",
      "metadata": {
        "id": "3CDq2-Jo36B_",
        "colab_type": "code",
        "colab": {}
      },
      "source": [
        "shots.perc <- shots.pl/rowSums(shots.pl)\n",
        "Xbar <- data.frame(player=rownames(shots.pl),\n",
        "\t\t\t\t   rbind(shots.perc),\n",
        "\t\t\t\t   FGA=rowSums(shots.pl))\n",
        "labclusters <- c(\"Cluster 1\",\"Cluster 2\",\"Cluster 3\",\n",
        "\t\t\t\t \"Cluster 4\",\"Cluster 5\",\"Cluster 6\")\n",
        "\n",
        "barline(data=Xbar, id=\"player\", line=\"FGA\",\n",
        "\t\tbars=c(\"X1\",\"X2\",\"X3\",\"X4\",\"X5\",\"X6\"),\n",
        "\t\torder.by=\"FGA\", label.line=\"Field goals attempted\",\n",
        "\t\tlabels.bars=labclusters)"
      ],
      "execution_count": 0,
      "outputs": []
    },
    {
      "cell_type": "code",
      "metadata": {
        "id": "OcL08HW937j4",
        "colab_type": "code",
        "colab": {}
      },
      "source": [
        "rm(list=ls())\n",
        "\n",
        "attach(Pbox)\n",
        "data <- data.frame(PTS, P3M, REB=OREB+DREB,\n",
        "\t\t\t\t   AST, TOV, STL, BLK, PF)\n",
        "detach(Pbox)\n",
        "\n",
        "data <- subset(data, Pbox$MIN>=1500)\n",
        "ID <- Pbox$Player[Pbox$MIN>=1500]\n",
        "\n",
        "hclu1 <- hclustering(data)\n",
        "plot(hclu1)\n",
        "\n",
        "hclu2 <- hclustering(data, labels=ID, k=9)\n",
        "plot(hclu2, profiles=TRUE)\n",
        "\n",
        "plot(hclu2, rect=TRUE, colored.branches=TRUE,\n",
        "\t cex.labels=0.5)"
      ],
      "execution_count": 0,
      "outputs": []
    },
    {
      "cell_type": "code",
      "metadata": {
        "id": "5vXlyrcS4DQQ",
        "colab_type": "code",
        "colab": {}
      },
      "source": [
        "Pbox.subset <- subset(Pbox, MIN>=1500)\n",
        "MIN <- Pbox.subset$MIN\n",
        "X <- data.frame(hclu2$Subjects, scale(data), MIN)\n",
        "\n",
        "dvar <- c(\"PTS\",\"P3M\",\"REB\",\"AST\",\n",
        "\t\t  \"TOV\",\"STL\",\"BLK\",\"PF\")\n",
        "svar <- \"MIN\"\n",
        "yRange <- range(X[,dvar])\n",
        "sizeRange <- c(1500, 3300)\n",
        "no.clu <- 9\n",
        "p <- vector(no.clu, mode=\"list\")\n",
        "for (k in 1:no.clu) {\n",
        "\t XC <- subset(X, Cluster==k)\n",
        "\t vrb <- variability(XC[,3:11], data.var=dvar,\n",
        "\t\t\t\t\t\tsize.var=svar, weight=FALSE,\n",
        "\t\t\t\t\t\tVC=FALSE)\n",
        "\t title <- paste(\"Cluster\", k)\n",
        "\t p[[k]] <- plot(vrb, size.lim=sizeRange, ylim=yRange,\n",
        "\t\t\t   title=title, leg.pos=c(0,1),\n",
        "\t\t\t   leg.just=c(-0.5,0),\n",
        "\t\t\t   leg.box=\"vertical\",\n",
        "\t\t\t   leg.brk=seq(1500,3000,500),\n",
        "\t\t\t   leg.title.pos=\"left\", leg.nrow=1,\n",
        "\t\t\t   max.circle=7)\n",
        "\t }\n",
        "library(gridExtra)\n",
        "grid.arrange(grobs=p, ncol=3)"
      ],
      "execution_count": 0,
      "outputs": []
    },
    {
      "cell_type": "markdown",
      "metadata": {
        "id": "rOMsmArR4GVp",
        "colab_type": "text"
      },
      "source": [
        "# CHAPTER 5 \n",
        "# Modeling Relationships in Data  "
      ]
    },
    {
      "cell_type": "code",
      "metadata": {
        "id": "fNIQXVFB4Fso",
        "colab_type": "code",
        "colab": {}
      },
      "source": [
        "rm(list=ls())\n",
        "\n",
        "Pbox.sel <- subset(Pbox, MIN>=500)\n",
        "attach(Pbox.sel)\n",
        "X <- AST/MIN\n",
        "Y <- TOV/MIN\n",
        "Pl <- Player\n",
        "detach(Pbox.sel)\n",
        "out <- simplereg(x=X, y=Y, type=\"lin\")\n",
        "xtitle <- \"AST per minute\"\n",
        "ytitle <- \"TOV per minute\"\n",
        "plot(out, xtitle=xtitle, ytitle=ytitle)\n",
        "\n",
        "selp <- which(Pl==\"Damian Lillard\")\n",
        "plot(out, labels=Pl, subset=selp, xtitle=xtitle,\n",
        "\t ytitle=ytitle)\n",
        "\n",
        "plot(out, labels=Pl, subset=\"quant\",\n",
        "\t Lx=0, Ux=0.97, Ly=0, Uy=0.97,\n",
        "\t xtitle=xtitle, ytitle=ytitle)"
      ],
      "execution_count": 0,
      "outputs": []
    },
    {
      "cell_type": "code",
      "metadata": {
        "id": "ABv0Gg9I4IFY",
        "colab_type": "code",
        "colab": {}
      },
      "source": [
        "rm(list=ls())\n",
        "\n",
        "Pbox.sel <- subset(Pbox, MIN>=500)\n",
        "attach(Pbox.sel)\n",
        "X <- (DREB+OREB)/MIN\n",
        "Y <- P3M/MIN\n",
        "Pl <- Player\n",
        "detach(Pbox.sel)\n",
        "\n",
        "out <- simplereg(x=X, y=Y, type=\"lin\")\n",
        "xtitle <- \"REB per minute\"\n",
        "ytitle <- \"P3M per minute\"\n",
        "plot(out, xtitle=xtitle, ytitle=ytitle)\n",
        "\n",
        "out <- simplereg(x=X, y=Y, type=\"pol\")\n",
        "plot(out, labels=Pl, subset=\"quant\",\n",
        "\t Lx=0, Ux=0.90, Ly=0, Uy=0.95,\n",
        "\t xtitle=xtitle, ytitle=ytitle)"
      ],
      "execution_count": 0,
      "outputs": []
    },
    {
      "cell_type": "code",
      "metadata": {
        "id": "oFIoHv4P4eog",
        "colab_type": "code",
        "colab": {}
      },
      "source": [
        "rm(list=ls())\n",
        "\n",
        "data <- subset(Pbox, MIN>=500)\n",
        "attach(data)\n",
        "X <- data.frame(PTS, P3M, P2M, REB=OREB+DREB, AST)/MIN\n",
        "detach(data)\n",
        "\n",
        "scatterplot(X, data.var=1:5,\n",
        "lower=list(continuous=\"smooth_loess\"),\n",
        "diag=list(continuous=\"barDiag\"))"
      ],
      "execution_count": 0,
      "outputs": []
    },
    {
      "cell_type": "code",
      "metadata": {
        "id": "wW_83gsZ4hCP",
        "colab_type": "code",
        "colab": {}
      },
      "source": [
        "rm(list=ls())\n",
        "PbP <- PbPmanipulation(PbP.BDB)\n",
        "\n",
        "PbP.GSW <- subset(PbP, team==\"GSW\" & result!=\"\")\n",
        "p1 <- scoringprob(data=PbP.GSW, shot.type=\"3P\",\n",
        "\t\t\t\t  var=\"playlength\")\n",
        "p2 <- scoringprob(data=PbP.GSW, shot.type=\"3P\",\n",
        "\t\t\t\t  var=\"periodTime\", bw=300)\n",
        "library(gridExtra)\n",
        "grid.arrange(p1, p2, ncol=2)\n",
        "\n",
        "pl1 <- c(\"Kevin Durant\",\"Draymond Green\",\"Klay Thompson\")\n",
        "p1 <- scoringprob(data=PbP.GSW, shot.type=\"2P\",\n",
        "players=pl1, var=\"shot_distance\",\n",
        "col.team=\"gray\")\n",
        "pl2 <- c(\"Kevin Durant\",\"Draymond Green\")\n",
        "p2 <- scoringprob(data=PbP.GSW, shot.type=\"2P\",\n",
        "players=pl2, var=\"totalTime\", bw=1500,\n",
        "col.team=\"gray\")\n",
        "library(gridExtra)\n",
        "grid.arrange(p1, p2, ncol=2)"
      ],
      "execution_count": 0,
      "outputs": []
    },
    {
      "cell_type": "code",
      "metadata": {
        "id": "bKs7EnG14mXa",
        "colab_type": "code",
        "colab": {}
      },
      "source": [
        "rm(list=ls())\n",
        "PbP <- PbPmanipulation(PbP.BDB)\n",
        "\n",
        "PbP.GSW <- subset(PbP, team==\"GSW\")\n",
        "pl <- c(\"Stephen Curry\",\"Kevin Durant\")\n",
        "mypal <- colorRampPalette(c(\"red\",\"green\"))\n",
        "expectedpts(data=PbP.GSW, players=pl,\n",
        "\t\t\tcol.team=\"gray\", palette=mypal,\n",
        "\t\t\tcol.hline=\"gray\")\n",
        "\n",
        "Pbox.GSW <- subset(Pbox, PTS>=500 &\n",
        "\t\t\t\t   Team==\"Golden State Warriors\")\n",
        "pl <- Pbox.GSW$Player\n",
        "mypal <- colorRampPalette(c(\"red\",\"green\"))\n",
        "expectedpts(data=PbP.GSW, players=pl,\n",
        "\t\t\tcol.team=\"gray\", palette=mypal,\n",
        "\t\t\tcol.hline=\"gray\")\n",
        "\n",
        "expectedpts(data=PbP.GSW, bw=300, players=pl,\n",
        "\t\t\tcol.team=\"gray\", palette=mypal,\n",
        "\t\t\tcol.hline=\"gray\", var=\"periodTime\",\n",
        "\t\t\txlab=\"Period time\")"
      ],
      "execution_count": 0,
      "outputs": []
    },
    {
      "cell_type": "code",
      "metadata": {
        "id": "oLV0AyAt4ox4",
        "colab_type": "code",
        "colab": {}
      },
      "source": [
        "rm(list=ls()) \n",
        "PbP <- PbPmanipulation(PbP.BDB) \n",
        " \n",
        "top <- subset(Tadd, Playoff==\"Y\" & team!=\"GSW\")$team\n",
        "bot <- subset(Tadd, Playoff==\"N\")$team \n",
        " \n",
        "bot_top <- function(X, k) {\n",
        "\t\t   dts <- subset(subset(X, oppTeam %in% get(k)),\n",
        "\t\t\t\t\t\t team==\"GSW\")\n",
        "\t\t   dts$player <- paste(dts$player, k)\n",
        "\t\t   return(dts)\n",
        "\t\t   }\n",
        "\n",
        "PbP.GSW <- rbind(bot_top(PbP, \"top\"),\n",
        "\t\t\t\t bot_top(PbP, \"bot\"))\n",
        "pl <- c(\"Stephen Curry top\",\"Stephen Curry bot\",\n",
        "\t\t\"Kevin Durant top\", \"Kevin Durant bot\")\n",
        "mypal <- colorRampPalette(c(\"red\",\"green\"))\n",
        "expectedpts(data=PbP.GSW, bw=1200, players=pl,\n",
        "\t\t\tcol.team=\"gray\", palette=mypal,\n",
        "\t\t\tcol.hline=\"gray\", var=\"totalTime\",\n",
        "\t\t\txlab=\"Total time\")"
      ],
      "execution_count": 0,
      "outputs": []
    },
    {
      "cell_type": "markdown",
      "metadata": {
        "id": "YzcuW5an4-RA",
        "colab_type": "text"
      },
      "source": [
        "# CHAPTER 6                                \n",
        "# The R package BasketballAnalyzeR  "
      ]
    },
    {
      "cell_type": "code",
      "metadata": {
        "id": "R2FRQGKv4q7n",
        "colab_type": "code",
        "colab": {}
      },
      "source": [
        "rm(list=ls())\n",
        "\n",
        "dts <- read.csv(file=\"2012-18_teamBoxScore.csv\")\n",
        "dts$gmDate <- as.Date(as.character(dts$gmDate))\n",
        "year <- as.numeric(format(dts$gmDate,\"%Y\"))\n",
        "month <- as.numeric(format(dts$gmDate,\"%m\"))\n",
        "dts$season <- ifelse(month<5, paste0(year-1,\"-\",year),\n",
        "\t\t\t\t\t\t\t  paste0(year,\"-\",year+1))\n",
        "\n",
        "library(dplyr)\n",
        "Tbox2 <- dts %>%\n",
        "  group_by(season, teamAbbr) %>%\n",
        "  summarise(GP=n(), MIN=sum(round(teamMin/5)),\n",
        "\tPTS=sum(teamPTS),\n",
        "\tW=sum(teamRslt==\"Win\"), L=sum(teamRslt==\"Loss\"),\n",
        "\tP2M=sum(team2PM), P2A=sum(team2PA), P2p=P2M/P2A,\n",
        "\tP3M=sum(team3PM), P3A=sum(team3PA), P3p=P3M/P3A,\n",
        "\tFTM=sum(teamFTM), FTA=sum(teamFTA), FTp=FTM/FTA,\n",
        "\tOREB=sum(teamORB), DREB=sum(teamDRB), AST=sum(teamAST),\n",
        "\tTOV=sum(teamTO), STL=sum(teamSTL), BLK=sum(teamBLK),\n",
        "\tPF=sum(teamPF), PM=sum(teamPTS-opptPTS)) %>%\n",
        "  rename(Season=season, Team=teamAbbr) %>%\n",
        "  as.data.frame()\n",
        "\n",
        "Obox2 <- dts %>%\n",
        "  group_by(season, teamAbbr) %>%\n",
        "  summarise(GP=n(), MIN=sum(round(opptMin/5)),\n",
        "\tPTS=sum(opptPTS),\n",
        "\tW=sum(opptRslt==\"Win\"), L=sum(opptRslt==\"Loss\"),\n",
        "\tP2M=sum(oppt2PM), P2A=sum(oppt2PA), P2p=100*P2M/P2A,\n",
        "\tP3M=sum(oppt3PM), P3A=sum(oppt3PA), P3p=100*P3M/P3A,\n",
        "\tFTM=sum(opptFTM), FTA=sum(opptFTA), FTp=100*FTM/FTA,\n",
        "\tOREB=sum(opptORB), DREB=sum(opptDRB), AST=sum(opptAST),\n",
        "\tTOV=sum(opptTO), STL=sum(opptSTL), BLK=sum(opptBLK),\n",
        "\tPF=sum(opptPF), PM=sum(teamPTS-opptPTS)) %>%\n",
        "  rename(Season=season, Team=teamAbbr) %>%\n",
        "  as.data.frame()\n",
        "\n",
        "dts <- read.csv(file=\"2012-18_playerBoxScore.csv\",\n",
        "\t\t\t\tencoding=\"UTF-8\")\n",
        "dts$gmDate <- as.Date(as.character(dts$gmDate))\n",
        "year <- as.numeric(format(dts$gmDate,\"%Y\"))\n",
        "month <- as.numeric(format(dts$gmDate,\"%m\"))\n",
        "dts$season <- ifelse(month<5, paste0(year-1,\"-\",year),\n",
        "\t\t\t\t\t\t\t  paste0(year,\"-\",year+1))\n",
        "Pbox2 <- dts %>%\n",
        "  group_by(season, teamAbbr, playDispNm) %>%\n",
        "  summarise(GP=n(), MIN=sum(playMin), PTS=sum(playPTS),\n",
        "\tP2M=sum(play2PM), P2A=sum(play2PA), P2p=100*P2M/P2A,\n",
        "\tP3M=sum(play3PM), P3A=sum(play3PA), P3p=100*P3M/P3A,\n",
        "\tFTM=sum(playFTM), FTA=sum(playFTA), FTp=100*FTM/FTA,\n",
        "\tOREB=sum(playORB), DREB=sum(playDRB), AST=sum(playAST),\n",
        "\tTOV=sum(playTO), STL=sum(playSTL), BLK=sum(playBLK),\n",
        "\tPF=sum(playPF)) %>%\n",
        "  rename(Season=season, Team=teamAbbr,\n",
        "\t\t Player=playDispNm) %>%\n",
        "  as.data.frame()"
      ],
      "execution_count": 0,
      "outputs": []
    },
    {
      "cell_type": "code",
      "metadata": {
        "id": "0iwKw7sA5G-J",
        "colab_type": "code",
        "colab": {}
      },
      "source": [
        "rm(list=ls())\n",
        "\n",
        "Pbox.sel <- subset(Pbox, MIN>=500)\n",
        "attach(Pbox.sel)\n",
        "X <- data.frame(AST, TOV, PTSpm=PTS)/MIN\n",
        "detach(Pbox.sel)\n",
        "mypal <- colorRampPalette(c(\"blue\",\"yellow\",\"red\"))\n",
        "p1 <- scatterplot(X, data.var=c(\"AST\",\"TOV\"),\n",
        "\t\t\t\t  z.var=\"PTSpm\", palette=mypal)\n",
        "print(p1)\n",
        "class(p1)\n",
        "\n",
        "p2 <- p1 +\n",
        "\t  labs(title=\"Scatter plot\", x=\"Assists\",\n",
        "\t\t   y=\"Turnovers\") +\n",
        "\t  scale_x_continuous(breaks=seq(0,0.35,0.05),\n",
        "\t\t\t\t\t\t limits=c(0,0.35)) +\n",
        "\t  theme(panel.background=element_rect(fill=\"#FFCCCC20\",\n",
        "\t\t\tcolour=\"red\", size=3)) +\n",
        "\t  guides(color=FALSE)\n",
        "print(p2)\n",
        "\n",
        "p3 <- p1 +\n",
        "\t  geom_segment(x=0.225, y=0.025, xend=X$AST[143]+0.005,\n",
        "\t\t\t\t   yend=X$TOV[143]-0.001, size=1,\n",
        "\t\t\t\t   color=\"red\",\n",
        "\t\t\t\t   arrow=arrow(length=unit(0.25, \"cm\"),\n",
        "\t\t\t\t   type=\"closed\", angle=20)) +\n",
        "annotate(\"text\", x=0.225, y=0.025,\n",
        "\t\tlabel=Pbox.sel[143,\"Player\"],\n",
        "\t\tcolor=\"red\", fontface=2, hjust=0)\n",
        "print(p3)\n",
        "\n",
        "p3 + geom_rect(xmin=0.2, ymin=0.075,\n",
        "\t\t\t   xmax=Inf, ymax=Inf,\n",
        "\t\t\t   fill=\"#DDDDDDAA\", color=NA)\n",
        "\n",
        "p3$layers <- c(geom_rect(xmin=0.2, ymin=0.075,\n",
        "\t\t\t\t\t\t xmax=Inf, ymax=Inf,\n",
        "\t\t\t\t\t\t fill=\"#DDDDDDAA\", color=NA),\n",
        "\t\t\t   p3$layers)\n",
        "print(p3)\n",
        "\n",
        "library(grid)\n",
        "library(jpeg)\n",
        "URL <- \"https://goo.gl/WGk6J1\"\n",
        "download.file(URL,\"NBAlogo.jpg\", mode=\"wb\")\n",
        "NBAlogo <- readJPEG(\"NBAlogo.jpg\", native=TRUE)\n",
        "grb <- rasterGrob(NBAlogo, interpolate=TRUE)\n",
        "p4 <- p2 +\n",
        "\t  annotation_custom(grb, xmin=0.025, xmax=0.05,\n",
        "\t\t\t\t\t\tymin=0.1, ymax=0.15) +\n",
        "\t  guides(color=FALSE)\n",
        "print(p4)\n",
        "\n",
        "library(cowplot)\n",
        "ggdraw() +\n",
        "  draw_plot(p1) +\n",
        "  draw_plot(p2, x=0.55, y=0.06, width=0.3, height=0.325)\n",
        "\n",
        "plot_grid(p1, NULL, p2, p4, nrow=2,\n",
        "\t\t  labels = c(\"A\",\"\",\"B\",\"C\"))\n",
        "\n",
        "ggdraw() +\n",
        "  draw_plot(p3, x=0, y=0.5, width=1, height=0.5) +\n",
        "  draw_plot(p2, x=0, y=0, width=0.5, height=0.5) +\n",
        "  draw_plot(p4, x=0.5, y=0, width=0.5, height=0.5)\n",
        "\n",
        "q1 <- ggplot_build(p1)\n",
        "q1$data[[1]]$shape <- 17\n",
        "q1$data[[1]]$size <- 3\n",
        "p1b <- ggplot_gtable(q1)\n",
        "plot(p1b)\n",
        "\n",
        "str(q1$data[[1]])"
      ],
      "execution_count": 0,
      "outputs": []
    },
    {
      "cell_type": "code",
      "metadata": {
        "id": "egaqz5I35Jwr",
        "colab_type": "code",
        "colab": {}
      },
      "source": [
        "library(plotly)\n",
        "Pbox.sel <- subset(Pbox, MIN>=500)\n",
        "attach(Pbox.sel)\n",
        "X <- data.frame(AST,TOV, PTSpm=PTS)/MIN\n",
        "detach(Pbox.sel)\n",
        "mypal <- colorRampPalette(c(\"blue\",\"yellow\",\"red\"))\n",
        "p5 <- scatterplot(X, data.var=c(\"AST\",\"TOV\"),\n",
        "\t\t\t\t  z.var=\"PTSpm\", palette=mypal)\n",
        "ggplotly(p5, tooltip=\"text\")\n",
        "\n",
        "data <- Pbox[1:64, c(\"PTS\",\"P3M\",\"P2M\",\"OREB\",\"Team\")]\n",
        "p6 <- scatterplot(data, data.var=1:4, z.var=\"Team\")\n",
        "ggplotly(p6)"
      ],
      "execution_count": 0,
      "outputs": []
    },
    {
      "cell_type": "code",
      "metadata": {
        "id": "QPLFiWT45L5g",
        "colab_type": "code",
        "colab": {}
      },
      "source": [
        ""
      ],
      "execution_count": 0,
      "outputs": []
    }
  ]
}