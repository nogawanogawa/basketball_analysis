{
  "nbformat": 4,
  "nbformat_minor": 0,
  "metadata": {
    "kernelspec": {
      "display_name": "R",
      "language": "R",
      "name": "ir"
    },
    "language_info": {
      "codemirror_mode": "r",
      "file_extension": ".r",
      "mimetype": "text/x-r-source",
      "name": "R",
      "pygments_lexer": "r",
      "version": "3.6.0"
    },
    "colab": {
      "name": "basketball_sample.ipynb",
      "provenance": [],
      "private_outputs": true,
      "collapsed_sections": []
    }
  },
  "cells": [
    {
      "cell_type": "code",
      "metadata": {
        "id": "M6YRCqil-8RK",
        "colab_type": "code",
        "colab": {}
      },
      "source": [
        "install.packages(\"devtools\", repos=\"https://cran.stat.unipd.it/\")"
      ],
      "execution_count": 0,
      "outputs": []
    },
    {
      "cell_type": "code",
      "metadata": {
        "scrolled": true,
        "id": "HwQQ9pKx-8RZ",
        "colab_type": "code",
        "colab": {}
      },
      "source": [
        "devtools::install_github(\"sndmrc/BasketballAnalyzeR\") "
      ],
      "execution_count": 0,
      "outputs": []
    },
    {
      "cell_type": "code",
      "metadata": {
        "id": "CPHNX_kn-8Re",
        "colab_type": "code",
        "colab": {}
      },
      "source": [
        " library(BasketballAnalyzeR)"
      ],
      "execution_count": 0,
      "outputs": []
    },
    {
      "cell_type": "code",
      "metadata": {
        "id": "CkCCMZtTAnZG",
        "colab_type": "code",
        "colab": {}
      },
      "source": [
        "PbP <- PbPmanipulation(PbP.BDB)"
      ],
      "execution_count": 0,
      "outputs": []
    },
    {
      "cell_type": "code",
      "metadata": {
        "id": "yXGW1qkmCo5E",
        "colab_type": "code",
        "colab": {}
      },
      "source": [
        "rm(list=ls())\n",
        "tm <- c(\"BOS\",\"CLE\",\"GSW\",\"HOU\")\n",
        "selTeams <- which(Tadd$team %in% tm)\n",
        "FF.sel <- fourfactors(Tbox[selTeams,], Obox[selTeams,])\n",
        "plot(FF.sel)"
      ],
      "execution_count": 0,
      "outputs": []
    },
    {
      "cell_type": "code",
      "metadata": {
        "id": "-H68ywzfnxq7",
        "colab_type": "code",
        "colab": {}
      },
      "source": [
        "FF <- fourfactors(Tbox,Obox)\n",
        "listPlots <- plot(FF)\n",
        "library(gridExtra)\n",
        "grid.arrange(grobs=listPlots[1:2], ncol=1)"
      ],
      "execution_count": 0,
      "outputs": []
    },
    {
      "cell_type": "code",
      "metadata": {
        "id": "1LdJWM_7wlhQ",
        "colab_type": "code",
        "colab": {}
      },
      "source": [
        "rm(list=ls())\n",
        "X <- data.frame(Tbox, PTS.O=Obox$PTS, TOV.O=Obox$TOV,\n",
        "CONF=Tadd$Conference)\n",
        "XW <- subset(X, CONF==\"W\")\n",
        "labs <- c(\"Steals\",\"Blocks\",\"Defensive Rebounds\")\n",
        "barline(data=XW, id=\"Team\", bars=c(\"STL\",\"BLK\",\"DREB\"),\n",
        "line=\"TOV.O\", order.by=\"PTS.O\", labels.bars=labs)\n",
        "Pbox.HR <- subset(Pbox, Team==\"Houston Rockets\" &\n",
        " MIN>=500)\n",
        "barline(data=Pbox.HR, id=\"Player\",\n",
        "bars=c(\"P2p\",\"P3p\",\"FTp\"), line=\"MIN\",\n",
        "order.by=\"PM\", labels.bars=c(\"2P%\",\"3P%\",\"FT%\"),\n",
        "title=\"Houston Rockets\")"
      ],
      "execution_count": 0,
      "outputs": []
    },
    {
      "cell_type": "code",
      "metadata": {
        "id": "Aic_wnHnwvqW",
        "colab_type": "code",
        "colab": {}
      },
      "source": [
        "rm(list=ls())\n",
        "Pbox.PG <- subset(Pbox, Player==\"Russell Westbrook\" |\n",
        " Player==\"Stephen Curry\" |\n",
        " Player==\"Chris Paul\" |\n",
        " Player==\"Kyrie Irving\" |\n",
        " Player==\"Damian Lillard\" |\n",
        " Player==\"Kyle Lowry\" |\n",
        " Player==\"John Wall\" |\n",
        " Player==\"Rajon Rondo\" |\n",
        " Player==\"Kemba Walker\")\n",
        "attach(Pbox.PG)\n",
        "X <- data.frame(P2M, P3M, FTM, REB=OREB+DREB, AST,\n",
        "STL, BLK)/MIN\n",
        "detach(Pbox.PG)\n",
        "radialprofile(data=X, title=Pbox.PG$Player, std=FALSE)\n",
        "radialprofile(data=X, title=Pbox.PG$Player, std=TRUE) "
      ],
      "execution_count": 0,
      "outputs": []
    },
    {
      "cell_type": "code",
      "metadata": {
        "id": "7UElI3Law1iA",
        "colab_type": "code",
        "colab": {}
      },
      "source": [
        "rm(list=ls())\n",
        "Pbox.sel <- subset(Pbox, MIN>= 500)\n",
        "attach(Pbox.sel)\n",
        "X <- data.frame(AST, TOV, PTS)/MIN\n",
        "detach(Pbox.sel)\n",
        "mypal <- colorRampPalette(c(\"blue\",\"yellow\",\"red\"))\n",
        "scatterplot(X, data.var=c(\"AST\",\"TOV\"), z.var=\"PTS\",\n",
        "labels=1:nrow(X), palette=mypal)\n",
        "SAS <- which(Pbox.sel$Team==\"San Antonio Spurs\")\n",
        "scatterplot(X, data.var=c(\"AST\",\"TOV\"), z.var=\"PTS\",\n",
        "labels=Pbox.sel$Player, palette=mypal,\n",
        "subset=SAS)\n",
        "SAS <- which(Pbox.sel$Team==\"San Antonio Spurs\")\n",
        "scatterplot(X, data.var=c(\"AST\",\"TOV\"), z.var=\"PTS\",\n",
        "labels=Pbox.sel$Player, palette=mypal,\n",
        "subset=SAS, zoom=c(0.20,0.325,0.05,0.10))"
      ],
      "execution_count": 0,
      "outputs": []
    },
    {
      "cell_type": "code",
      "metadata": {
        "id": "kpPOA2NnxAW-",
        "colab_type": "code",
        "colab": {}
      },
      "source": [
        "rm(list=ls())\n",
        "attach(Tbox)\n",
        "X <- data.frame(T=Team, P2p, P3p, FTp, AS=P2A+P3A+FTA)\n",
        "detach(Tbox)\n",
        "labs <- c(\"2-point shots (% made)\",\n",
        " \"3-point shots (% made)\",\n",
        " \"free throws (% made)\",\n",
        " \"Total shots attempted\")\n",
        "bubbleplot(X, id=\"T\", x=\"P2p\", y=\"P3p\", col=\"FTp\",\n",
        " size=\"AS\", labels=labs)\n",
        "Pbox.GSW.CC <- subset(Pbox,\n",
        " (Team==\"Golden State Warriors\" |\n",
        " Team ==\"Cleveland Cavaliers\") &\n",
        " MIN>=500)\n",
        "attach(Pbox.GSW.CC)\n",
        "X <- data.frame(ID=Player, Team, V1=DREB/MIN, V2=STL/MIN,\n",
        "V3=BLK/MIN, V4=MIN)\n",
        "detach(Pbox.GSW.CC)\n",
        "labs <- c(\"Defensive Rebounds\",\"Steals\",\"Blocks\",\n",
        " \"Total minutes played\")\n",
        "bubbleplot(X, id=\"ID\", x=\"V1\", y=\"V2\", col=\"V3\",\n",
        " size=\"V4\", text.col=\"Team\", labels=labs,\n",
        " title=\"GSW and CC during the regular season\",\n",
        " text.legend=TRUE, text.size=3.5, scale=FALSE)"
      ],
      "execution_count": 0,
      "outputs": []
    },
    {
      "cell_type": "code",
      "metadata": {
        "id": "0wginlV1xLI9",
        "colab_type": "code",
        "colab": {}
      },
      "source": [
        "rm(list=ls())\n",
        "Pbox.OKC <- subset(Pbox, Team==\"Oklahoma City Thunder\"\n",
        " & MIN>=500)\n",
        "vrb1 <- variability(data=Pbox.OKC, data.var=\"P3p\",\n",
        "size.var=\"P3A\")\n",
        "vrb1 <- variability(data=Pbox.OKC, data.var=\"P3p\",\n",
        "size.var=\"P3A\",weight=TRUE)\n",
        "vrb2 <- variability(data=Pbox.OKC,\n",
        "data.var=c(\"P2p\",\"P3p\",\"FTp\"),\n",
        "size.var=c(\"P2A\",\"P3A\",\"FTA\"),\n",
        "weight=TRUE)\n",
        "plot(vrb2, title=\"Variability diagram - OKC\")"
      ],
      "execution_count": 0,
      "outputs": []
    },
    {
      "cell_type": "code",
      "metadata": {
        "id": "WeejYl_exbLp",
        "colab_type": "code",
        "colab": {}
      },
      "source": [
        "rm(list=ls())\n",
        "Pbox.BN <- subset(Pbox, Team==\"Brooklyn Nets\")\n",
        "ineqBN <- inequality(Pbox.BN$PTS, nplayers=8)\n",
        "Pbox.MB <- subset(Pbox, Team==\"Milwaukee Bucks\")\n",
        "ineqMB <- inequality(Pbox.MB$PTS, nplayers=8)\n",
        "library(gridExtra)\n",
        "p1 <- plot(ineqBN, title=\"Brooklyn Nets\")\n",
        "p2 <- plot(ineqMB, title=\"Milwaukee Bucks\")\n",
        "grid.arrange(p1, p2, nrow=1)\n",
        "no.teams <- nrow(Tbox)\n",
        "INEQ <- array(0, no.teams)\n",
        "for (k in 1:no.teams) {\n",
        "Teamk <- Tbox$Team[k]\n",
        "Pbox.sel <- subset(Pbox, Team==Teamk)\n",
        "index <- inequality(Pbox.sel$PTS, npl=8)\n",
        "INEQ[k] <- index$Gini\n",
        " }\n",
        "dts <- data.frame(INEQ, PTS=Tbox$PTS,\n",
        " CONF=Tadd$Conference)\n",
        "mypal <- colorRampPalette(c(\"blue\",\"red\"))\n",
        "scatterplot(dts, data.var=c(\"INEQ\",\"PTS\"), z.var=\"CONF\",\n",
        "labels=Tbox$Team, palette=mypal,\n",
        "repel_labels=TRUE)"
      ],
      "execution_count": 0,
      "outputs": []
    },
    {
      "cell_type": "code",
      "metadata": {
        "id": "cLmhMmRxxmM4",
        "colab_type": "code",
        "colab": {}
      },
      "source": [
        "rm(list=ls())\n",
        "PbP <- PbPmanipulation(PbP.BDB)\n",
        "PbP.GSW <- subset(PbP, team=\"GSW\")\n",
        "lineup <- c(\"Stephen Curry\", \"Kevin Durant\",\n",
        " \"Klay Thompson\", \"Draymond Green\",\n",
        " \"Zaza Pachulia\")\n",
        "filt5 <- apply(PbP.GSW[, 4:13], 1,\n",
        " function(x) {\n",
        " x <- as.character(x)\n",
        " sum(x %in% lineup)==5\n",
        " })\n",
        "subPbP.GSW <- PbP.GSW[filt5, ]\n",
        "PTS5 <- sapply(lineup,\n",
        " function(x) {\n",
        " filt <- subPbP.GSW$player==x\n",
        " sum(subPbP.GSW$points[filt], na.rm=T)\n",
        " })\n",
        "inequality(PTS5,nplayer=5)"
      ],
      "execution_count": 0,
      "outputs": []
    },
    {
      "cell_type": "code",
      "metadata": {
        "id": "3JqRPgpkxuPK",
        "colab_type": "code",
        "colab": {}
      },
      "source": [
        "rm(list=ls())\n",
        "PbP <- PbPmanipulation(PbP.BDB)\n",
        "PbP.GSW.DET <- subset(PbP, team==\"GSW\" & oppTeam==\"DET\")\n",
        "lineup <- c(\"Stephen Curry\", \"Kevin Durant\",\n",
        " \"Klay Thompson\", \"Draymond Green\",\n",
        " \"Zaza Pachulia\")\n",
        "filt5 <- apply(PbP.GSW.DET[, 4:13], 1,\n",
        " function(x) {\n",
        " x <- as.character(x)\n",
        " sum(x %in% lineup)==5\n",
        " })\n",
        "subPbP.GSW.DET <- PbP.GSW.DET[filt5, ]\n",
        "PTS5 <- sapply(lineup,\n",
        " function(x) {\n",
        " filt <- subPbP.GSW.DET$player==x\n",
        " sum(subPbP.GSW.DET$points[filt], na.rm=T)\n",
        " })\n",
        "inequality(PTS5,nplayer=5)"
      ],
      "execution_count": 0,
      "outputs": []
    },
    {
      "cell_type": "code",
      "metadata": {
        "id": "TRek7anwxxv9",
        "colab_type": "code",
        "colab": {}
      },
      "source": [
        "rm(list=ls())\n",
        "PbP <- PbPmanipulation(PbP.BDB)\n",
        "subdata <- subset(PbP, player==\"Kevin Durant\")\n",
        "subdata$xx <- subdata$original_x/10\n",
        "subdata$yy <- subdata$original_y/10-41.75\n",
        "shotchart(data=subdata, x=\"xx\", y=\"yy\", type=NULL,\n",
        " scatter=TRUE)\n",
        "shotchart(data=subdata, x=\"xx\", y=\"yy\", z=\"result\", type=NULL,\n",
        " scatter=TRUE)\n",
        "shotchart(data=subdata, x=\"xx\", y=\"yy\", z=\"playlength\",\n",
        " num.sect=5, type=\"sectors\", scatter = TRUE)\n",
        "shotchart(data=subdata, x=\"xx\", y=\"yy\", z=\"playlength\",\n",
        " num.sect=5, type=\"sectors\", scatter=FALSE, result=\"result\")"
      ],
      "execution_count": 0,
      "outputs": []
    },
    {
      "cell_type": "code",
      "metadata": {
        "id": "CBYs8gBrx8XD",
        "colab_type": "code",
        "colab": {}
      },
      "source": [
        ""
      ],
      "execution_count": 0,
      "outputs": []
    }
  ]
}